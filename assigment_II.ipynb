{
 "cells": [
  {
   "cell_type": "markdown",
   "metadata": {},
   "source": [
    "<div align=\"right\">Wanchana Ponthongmak<br>\n",
    "6136168 RADS/D<br>\n",
    "RADS611 Advance Modeling</div>"
   ]
  },
  {
   "cell_type": "markdown",
   "metadata": {},
   "source": [
    "# <b> Age Prediction from face image by Deep Learning"
   ]
  },
  {
   "cell_type": "markdown",
   "metadata": {},
   "source": [
    "## <b>Introduction"
   ]
  },
  {
   "cell_type": "markdown",
   "metadata": {},
   "source": [
    "<p style=\"text-indent: 2.5em;\">\n",
    "    Age and gender are the key facial attributes, play an essential role in social interactions. Automatic age and gender prediction have become relevant to an increasing amount of applications, particularly when social platforms and social media become common in human's daily life. Estimation of age and gender from a face image is a critical task in artificial intelligence applications, such as access control, human-computer interaction, law enforcement, marketing intelligence, and visual surveillance.\n",
    "    \n",
    "<p style=\"text-indent: 2.5em;\">    \n",
    "    In deep learning, the Convolutional Neural Network (CNNs) is one of the primary methods to do images recognition, images classifications. Objects detections, recognition faces, etc., are some of the areas where CNNs are widely used. CNNs are regularized versions of multilayer perceptrons. Multilayer perceptrons is a fully connected network; that is, each neuron in one layer is connected to all neurons in the next layer. The multilayer perceptrons always prone to overfitting data. However, CNNs take advantage of the hierarchical pattern in data and assemble more complex patterns using smaller and simpler patterns to regularize to reduce overfitting.\n",
    "    \n",
    "<p style=\"text-indent: 2.5em;\">\n",
    "    The aim of this study is to create a model to classify age group from the Adience face image project, the face images provided by the open university of Israel. The aligned face images are retrieved, then resize and feed into the model in order to train the best model for face prediction."
   ]
  },
  {
   "cell_type": "markdown",
   "metadata": {},
   "source": [
    "## <b>Data Acquisition"
   ]
  },
  {
   "cell_type": "markdown",
   "metadata": {},
   "source": [
    "The data used in this study derived from Adience face image project, the open university of Israel. The data is download than extract into the computer drive. The link of dataset is https://talhassner.github.io/home/projects/Adience/Adience-data.html"
   ]
  },
  {
   "cell_type": "markdown",
   "metadata": {},
   "source": [
    "## <b>Methodology"
   ]
  },
  {
   "cell_type": "markdown",
   "metadata": {},
   "source": [
    "<p style=\"text-indent: 2.5em;\">\n",
    "    The study methodology consists of eight phases, range from creating file path for data retrieval from file path directory to model evaluation and visualization by face images provided by the open university of Israel."
   ]
  },
  {
   "cell_type": "markdown",
   "metadata": {},
   "source": [
    "<b> 1 Creating File Path \n",
    "<p style=\"text-indent: 2.5em;\">\n",
    "    The file path of each sample is created in order to retrieval the image from the image folder in file directory."
   ]
  },
  {
   "cell_type": "markdown",
   "metadata": {},
   "source": [
    "<b> 2 Data Concatenation\n",
    "<p style=\"text-indent: 2.5em;\">\n",
    "    The samples were separated into five text files, namely, fold zero to fold five. all fold is merged into a single file called fold."
   ]
  },
  {
   "cell_type": "markdown",
   "metadata": {},
   "source": [
    "<b> 3 Non-Relevance Label Removal\n",
    "<p style=\"text-indent: 2.5em;\">\n",
    "    Some samples do not have an age group as a label; these samples will be removed from the dataset."
   ]
  },
  {
   "cell_type": "markdown",
   "metadata": {},
   "source": [
    "<b> 4 Data Splitting\n",
    "<p style=\"text-indent: 2.5em;\">\n",
    "    The dataset was split into three sets, including train set, validate set, and test set with splitting ratio at 80: 10: 10"
   ]
  },
  {
   "cell_type": "markdown",
   "metadata": {},
   "source": [
    "<b> 5 Data Augmentation\n",
    "<p style=\"text-indent: 2.5em;\">\n",
    "    The images from train set were augmented by randomly width shifting, height shifting, horizontal flipping, and zoom in before feeding into the training model."
   ]
  },
  {
   "cell_type": "markdown",
   "metadata": {},
   "source": [
    "<b> 6 Data Retrieval\n",
    "<p style=\"text-indent: 2.5em;\">\n",
    "    The images from the file directory will be feed into the model in small amount in each batch in order to minimize memory used."
   ]
  },
  {
   "cell_type": "markdown",
   "metadata": {},
   "source": [
    "<b> 7 Model Experiment\n",
    "<p style=\"text-indent: 2.5em;\">\n",
    "    The models used in the experiment derived from two CNNs pre-trained architecture with difference weight training sources including, 1) ResNet50 architecture with Imagenet weight training and 2) VGG-Very-Deep-16 CNN architecture + VGG-Face weight training.\n",
    "<p style=\"text-indent: 2.5em;\">\n",
    "    The models are trained by freezing the model parameters in all model layer then train the model and monitor the model accuracy. If the model accuracy is not passed the satisfaction level, the model layers are unfreezing to train more parameters to get a better result."
   ]
  },
  {
   "cell_type": "markdown",
   "metadata": {},
   "source": [
    "<b> 8 Model Evaluation and Visualization\n",
    "<p style=\"text-indent: 2.5em;\">\n",
    "    The model evaluation and visualization are used several matrices to assess model performance, such as ROC curve, PR curve, and F1."
   ]
  },
  {
   "cell_type": "markdown",
   "metadata": {},
   "source": [
    "<b> 9 Conclusions, Discussions, and Limitations"
   ]
  },
  {
   "cell_type": "markdown",
   "metadata": {},
   "source": [
    "## <b>Get Start"
   ]
  },
  {
   "cell_type": "markdown",
   "metadata": {},
   "source": [
    "### Required Libraries"
   ]
  },
  {
   "cell_type": "code",
   "execution_count": 166,
   "metadata": {
    "scrolled": true
   },
   "outputs": [
    {
     "name": "stdout",
     "output_type": "stream",
     "text": [
      "/home/jupyter/agedetect\n"
     ]
    }
   ],
   "source": [
    "# set the seed to ensure reproductive of model results\n",
    "from numpy.random import seed\n",
    "seed(6)\n",
    "from tensorflow import set_random_seed\n",
    "set_random_seed(6)\n",
    "import os\n",
    "import numpy as np\n",
    "import pandas as pd\n",
    "from matplotlib import pyplot as plt\n",
    "import seaborn as sns\n",
    "import cv2\n",
    "import keras\n",
    "from keras.models import Sequential, Model\n",
    "from keras.preprocessing.image import ImageDataGenerator\n",
    "from keras.layers import Dense, Dropout, MaxPooling2D, BatchNormalization, Flatten,\\\n",
    "ZeroPadding2D, Convolution2D, Activation, GlobalMaxPooling2D\n",
    "from keras.applications.resnet50 import ResNet50\n",
    "from sklearn.externals import joblib\n",
    "from sklearn.metrics import confusion_matrix, roc_curve, precision_recall_curve,\\\n",
    "average_precision_score, f1_score, auc, balanced_accuracy_score \n",
    "from sklearn.utils import shuffle\n",
    "from sklearn.model_selection import train_test_split\n",
    "from sklearn.utils import class_weight\n",
    "from keras.utils import to_categorical\n",
    "from itertools import cycle\n",
    "from collections import Counter\n",
    "from scipy import interp\n",
    "import itertools\n",
    "\n",
    "cwd = os.getcwd()\n",
    "print(cwd)"
   ]
  },
  {
   "cell_type": "code",
   "execution_count": 8,
   "metadata": {},
   "outputs": [],
   "source": [
    "# Set dataframe display\n",
    "pd.set_option('display.max_columns', None)\n",
    "pd.set_option('display.expand_frame_repr', False)\n",
    "pd.set_option('display.max_colwidth', -1)"
   ]
  },
  {
   "cell_type": "markdown",
   "metadata": {},
   "source": [
    "## 1) Creating File Path "
   ]
  },
  {
   "cell_type": "code",
   "execution_count": 70,
   "metadata": {},
   "outputs": [],
   "source": [
    "# this defined function used to create paths for retrieving data from the directory\n",
    "def importdata(filename):\n",
    "    # read text file from path directory separated data by tab \n",
    "    fold = pd.read_csv(filename + \".txt\", sep = '\\t')\n",
    "    # create paths to retrieve data \n",
    "    fold['path'] = fold.apply(lambda x: \"aligned/\" + x['user_id'] + \\\n",
    "        \"/landmark_aligned_face.{}.{}\".format(x['face_id'], x['original_image']), axis=1)\n",
    "    return fold"
   ]
  },
  {
   "cell_type": "code",
   "execution_count": 71,
   "metadata": {},
   "outputs": [],
   "source": [
    "fold_0 = importdata('fold_0_data')\n",
    "fold_1 = importdata('fold_1_data')\n",
    "fold_2 = importdata('fold_2_data')\n",
    "fold_3 = importdata('fold_3_data')\n",
    "fold_4 = importdata('fold_4_data')"
   ]
  },
  {
   "cell_type": "markdown",
   "metadata": {},
   "source": [
    "## 2) Data Concatenation"
   ]
  },
  {
   "cell_type": "code",
   "execution_count": 72,
   "metadata": {},
   "outputs": [],
   "source": [
    "# pool all sample from 5 files into one\n",
    "fold = pd.concat([fold_0, fold_1, fold_2, fold_3, fold_4,], axis = 0)\n",
    "\n",
    "# reset index\n",
    "fold = fold.reset_index(drop = True)\n",
    "del fold_0, fold_1, fold_2, fold_3, fold_4"
   ]
  },
  {
   "cell_type": "code",
   "execution_count": 73,
   "metadata": {},
   "outputs": [
    {
     "data": {
      "text/html": [
       "<div>\n",
       "<style scoped>\n",
       "    .dataframe tbody tr th:only-of-type {\n",
       "        vertical-align: middle;\n",
       "    }\n",
       "\n",
       "    .dataframe tbody tr th {\n",
       "        vertical-align: top;\n",
       "    }\n",
       "\n",
       "    .dataframe thead th {\n",
       "        text-align: right;\n",
       "    }\n",
       "</style>\n",
       "<table border=\"1\" class=\"dataframe\">\n",
       "  <thead>\n",
       "    <tr style=\"text-align: right;\">\n",
       "      <th></th>\n",
       "      <th>user_id</th>\n",
       "      <th>original_image</th>\n",
       "      <th>face_id</th>\n",
       "      <th>age</th>\n",
       "      <th>gender</th>\n",
       "      <th>x</th>\n",
       "      <th>y</th>\n",
       "      <th>dx</th>\n",
       "      <th>dy</th>\n",
       "      <th>tilt_ang</th>\n",
       "      <th>fiducial_yaw_angle</th>\n",
       "      <th>fiducial_score</th>\n",
       "      <th>path</th>\n",
       "    </tr>\n",
       "  </thead>\n",
       "  <tbody>\n",
       "    <tr>\n",
       "      <th>0</th>\n",
       "      <td>30601258@N03</td>\n",
       "      <td>10399646885_67c7d20df9_o.jpg</td>\n",
       "      <td>1</td>\n",
       "      <td>(25, 32)</td>\n",
       "      <td>f</td>\n",
       "      <td>0</td>\n",
       "      <td>414</td>\n",
       "      <td>1086</td>\n",
       "      <td>1383</td>\n",
       "      <td>-115</td>\n",
       "      <td>30</td>\n",
       "      <td>17</td>\n",
       "      <td>aligned/30601258@N03/landmark_aligned_face.1.10399646885_67c7d20df9_o.jpg</td>\n",
       "    </tr>\n",
       "    <tr>\n",
       "      <th>1</th>\n",
       "      <td>30601258@N03</td>\n",
       "      <td>10424815813_e94629b1ec_o.jpg</td>\n",
       "      <td>2</td>\n",
       "      <td>(25, 32)</td>\n",
       "      <td>m</td>\n",
       "      <td>301</td>\n",
       "      <td>105</td>\n",
       "      <td>640</td>\n",
       "      <td>641</td>\n",
       "      <td>0</td>\n",
       "      <td>0</td>\n",
       "      <td>94</td>\n",
       "      <td>aligned/30601258@N03/landmark_aligned_face.2.10424815813_e94629b1ec_o.jpg</td>\n",
       "    </tr>\n",
       "    <tr>\n",
       "      <th>2</th>\n",
       "      <td>30601258@N03</td>\n",
       "      <td>10437979845_5985be4b26_o.jpg</td>\n",
       "      <td>1</td>\n",
       "      <td>(25, 32)</td>\n",
       "      <td>f</td>\n",
       "      <td>2395</td>\n",
       "      <td>876</td>\n",
       "      <td>771</td>\n",
       "      <td>771</td>\n",
       "      <td>175</td>\n",
       "      <td>-30</td>\n",
       "      <td>74</td>\n",
       "      <td>aligned/30601258@N03/landmark_aligned_face.1.10437979845_5985be4b26_o.jpg</td>\n",
       "    </tr>\n",
       "    <tr>\n",
       "      <th>3</th>\n",
       "      <td>30601258@N03</td>\n",
       "      <td>10437979845_5985be4b26_o.jpg</td>\n",
       "      <td>3</td>\n",
       "      <td>(25, 32)</td>\n",
       "      <td>m</td>\n",
       "      <td>752</td>\n",
       "      <td>1255</td>\n",
       "      <td>484</td>\n",
       "      <td>485</td>\n",
       "      <td>180</td>\n",
       "      <td>0</td>\n",
       "      <td>47</td>\n",
       "      <td>aligned/30601258@N03/landmark_aligned_face.3.10437979845_5985be4b26_o.jpg</td>\n",
       "    </tr>\n",
       "    <tr>\n",
       "      <th>4</th>\n",
       "      <td>30601258@N03</td>\n",
       "      <td>11816644924_075c3d8d59_o.jpg</td>\n",
       "      <td>2</td>\n",
       "      <td>(25, 32)</td>\n",
       "      <td>m</td>\n",
       "      <td>175</td>\n",
       "      <td>80</td>\n",
       "      <td>769</td>\n",
       "      <td>768</td>\n",
       "      <td>-75</td>\n",
       "      <td>0</td>\n",
       "      <td>34</td>\n",
       "      <td>aligned/30601258@N03/landmark_aligned_face.2.11816644924_075c3d8d59_o.jpg</td>\n",
       "    </tr>\n",
       "  </tbody>\n",
       "</table>\n",
       "</div>"
      ],
      "text/plain": [
       "        user_id                original_image  face_id       age gender     x     y    dx    dy  tilt_ang  fiducial_yaw_angle  fiducial_score                                                                       path\n",
       "0  30601258@N03  10399646885_67c7d20df9_o.jpg  1        (25, 32)  f      0     414   1086  1383 -115       30                  17              aligned/30601258@N03/landmark_aligned_face.1.10399646885_67c7d20df9_o.jpg\n",
       "1  30601258@N03  10424815813_e94629b1ec_o.jpg  2        (25, 32)  m      301   105   640   641   0         0                   94              aligned/30601258@N03/landmark_aligned_face.2.10424815813_e94629b1ec_o.jpg\n",
       "2  30601258@N03  10437979845_5985be4b26_o.jpg  1        (25, 32)  f      2395  876   771   771   175      -30                  74              aligned/30601258@N03/landmark_aligned_face.1.10437979845_5985be4b26_o.jpg\n",
       "3  30601258@N03  10437979845_5985be4b26_o.jpg  3        (25, 32)  m      752   1255  484   485   180       0                   47              aligned/30601258@N03/landmark_aligned_face.3.10437979845_5985be4b26_o.jpg\n",
       "4  30601258@N03  11816644924_075c3d8d59_o.jpg  2        (25, 32)  m      175   80    769   768  -75        0                   34              aligned/30601258@N03/landmark_aligned_face.2.11816644924_075c3d8d59_o.jpg"
      ]
     },
     "execution_count": 73,
     "metadata": {},
     "output_type": "execute_result"
    }
   ],
   "source": [
    "# show the first five samples in fold dataframe\n",
    "fold.head(5)"
   ]
  },
  {
   "cell_type": "code",
   "execution_count": 74,
   "metadata": {},
   "outputs": [
    {
     "data": {
      "text/plain": [
       "(19370, 13)"
      ]
     },
     "execution_count": 74,
     "metadata": {},
     "output_type": "execute_result"
    }
   ],
   "source": [
    "fold.shape"
   ]
  },
  {
   "cell_type": "markdown",
   "metadata": {},
   "source": [
    "## 3) Non-Relevance Label Removal"
   ]
  },
  {
   "cell_type": "code",
   "execution_count": 75,
   "metadata": {},
   "outputs": [],
   "source": [
    "# this defined function used to flag and remove non-relevance label class\n",
    "def remove_unlabel(fold):\n",
    "    dict_age = {'(0, 2)' : 0,\n",
    "                '(4, 6)' : 1,\n",
    "                '(8, 12)' : 2,\n",
    "                '(15, 20)' : 3,\n",
    "                '(25, 32)' : 4,\n",
    "                '(38, 43)' : 5,\n",
    "                '(48, 53)' : 6,\n",
    "                '(60, 100)' : 7}\n",
    "    # flag the filter to remove non-group age \n",
    "    fold['age_filter'] = fold['age'].apply(lambda x: int(x in dict_age))\n",
    "    fold = fold[fold['age_filter'] == 1]\n",
    "    return fold"
   ]
  },
  {
   "cell_type": "code",
   "execution_count": 76,
   "metadata": {},
   "outputs": [],
   "source": [
    "fold_clean = remove_unlabel(fold)"
   ]
  },
  {
   "cell_type": "code",
   "execution_count": 77,
   "metadata": {},
   "outputs": [
    {
     "data": {
      "text/plain": [
       "(17393, 14)"
      ]
     },
     "execution_count": 77,
     "metadata": {},
     "output_type": "execute_result"
    }
   ],
   "source": [
    "fold_clean.shape"
   ]
  },
  {
   "cell_type": "code",
   "execution_count": 78,
   "metadata": {},
   "outputs": [
    {
     "name": "stdout",
     "output_type": "stream",
     "text": [
      "There are 1,977 samples were removed\n"
     ]
    }
   ],
   "source": [
    "print('There are {:,} samples were removed'.format(fold.shape[0] - fold_clean.shape[0]))"
   ]
  },
  {
   "cell_type": "code",
   "execution_count": 79,
   "metadata": {},
   "outputs": [],
   "source": [
    "# encode label into numeric data\n",
    "dict_age = {'(0, 2)' : 0, '(4, 6)' : 1, '(8, 12)' : 2, '(15, 20)' : 3,\n",
    "            '(25, 32)' : 4,'(38, 43)' : 5,'(48, 53)' : 6,'(60, 100)' : 7}"
   ]
  },
  {
   "cell_type": "code",
   "execution_count": 80,
   "metadata": {},
   "outputs": [],
   "source": [
    "# extract list of path directory \n",
    "filenames = list(fold_clean['path'])"
   ]
  },
  {
   "cell_type": "code",
   "execution_count": 81,
   "metadata": {},
   "outputs": [
    {
     "data": {
      "text/plain": [
       "['aligned/30601258@N03/landmark_aligned_face.1.10399646885_67c7d20df9_o.jpg',\n",
       " 'aligned/30601258@N03/landmark_aligned_face.2.10424815813_e94629b1ec_o.jpg',\n",
       " 'aligned/30601258@N03/landmark_aligned_face.1.10437979845_5985be4b26_o.jpg',\n",
       " 'aligned/30601258@N03/landmark_aligned_face.3.10437979845_5985be4b26_o.jpg',\n",
       " 'aligned/30601258@N03/landmark_aligned_face.2.11816644924_075c3d8d59_o.jpg']"
      ]
     },
     "execution_count": 81,
     "metadata": {},
     "output_type": "execute_result"
    }
   ],
   "source": [
    "filenames[0:5]"
   ]
  },
  {
   "cell_type": "code",
   "execution_count": 82,
   "metadata": {},
   "outputs": [],
   "source": [
    "y = np.array([dict_age[a] for a in fold_clean.age.values])"
   ]
  },
  {
   "cell_type": "code",
   "execution_count": 83,
   "metadata": {},
   "outputs": [
    {
     "data": {
      "text/plain": [
       "array([4, 4, 4, 4, 4])"
      ]
     },
     "execution_count": 83,
     "metadata": {},
     "output_type": "execute_result"
    }
   ],
   "source": [
    "y[0:5]"
   ]
  },
  {
   "cell_type": "code",
   "execution_count": 84,
   "metadata": {},
   "outputs": [],
   "source": [
    "# shuffle the list of file path\n",
    "filenames, y = shuffle(filenames, y, random_state = 6)\n",
    "filenames = np.array(filenames)"
   ]
  },
  {
   "cell_type": "code",
   "execution_count": 85,
   "metadata": {},
   "outputs": [
    {
     "data": {
      "text/plain": [
       "array(['aligned/101071073@N04/landmark_aligned_face.708.10658628663_23fd62aab9_o.jpg',\n",
       "       'aligned/7411850@N04/landmark_aligned_face.465.11098536056_b8f250b5f7_o.jpg',\n",
       "       'aligned/113715068@N06/landmark_aligned_face.1416.11873684324_9ae77eab11_o.jpg',\n",
       "       'aligned/7651777@N03/landmark_aligned_face.1590.8448553152_ee57286766_o.jpg',\n",
       "       'aligned/18142498@N06/landmark_aligned_face.803.11555598623_97c27737f6_o.jpg'],\n",
       "      dtype='<U77')"
      ]
     },
     "execution_count": 85,
     "metadata": {},
     "output_type": "execute_result"
    }
   ],
   "source": [
    "filenames[0:5]"
   ]
  },
  {
   "cell_type": "code",
   "execution_count": 86,
   "metadata": {},
   "outputs": [],
   "source": [
    "del fold, fold_clean"
   ]
  },
  {
   "cell_type": "markdown",
   "metadata": {},
   "source": [
    "### Data Characteristics and Age Histogram"
   ]
  },
  {
   "cell_type": "code",
   "execution_count": 87,
   "metadata": {},
   "outputs": [
    {
     "data": {
      "image/png": "[encoded data removed]",
      "text/plain": [
       "<Figure size 432x288 with 1 Axes>"
      ]
     },
     "metadata": {
      "needs_background": "light"
     },
     "output_type": "display_data"
    }
   ],
   "source": [
    "# plot the data characteristics\n",
    "objects = [\"(0-2)\", \"(4-6)\", \"(8-12)\", \"(15-20)\", \"(25-32)\", \"(38-43)\", \"(48-53)\", \"(60-100)\"]\n",
    "c = Counter(y)\n",
    "plt.bar(objects, c.values(), align = 'center')\n",
    "plt.xlabel('Age Group')\n",
    "plt.ylabel('Count')\n",
    "plt.title('Number of sample in each age group')\n",
    "plt.show()"
   ]
  },
  {
   "cell_type": "markdown",
   "metadata": {},
   "source": [
    "<p style=\"text-indent: 2.5em;\">\n",
    "    According to the age histogram, the majority of samples are about 25-32 years old (approximate 5,000) and the smallest group is 45-53 years old, which has less than 1,000 samples."
   ]
  },
  {
   "cell_type": "markdown",
   "metadata": {},
   "source": [
    "## 4) Data Splitting"
   ]
  },
  {
   "cell_type": "code",
   "execution_count": 88,
   "metadata": {},
   "outputs": [],
   "source": [
    "# split data into three set\n",
    "def split(X, y, test_size = 0.1):\n",
    "    Xtrn, Xtst, ytrn, ytst = train_test_split(X, y, test_size = test_size,\n",
    "                                              random_state = 6, stratify = y)\n",
    "    return Xtrn, Xtst, ytrn, ytst\n",
    "\n",
    "# the ratio at 0.1\n",
    "Xtrn, Xtst, ytrn, ytst = split(filenames, y, test_size = 0.1)\n",
    "Xtrn, Xval, ytrn, yval = split(Xtrn, ytrn, test_size = 0.11111)\n",
    "\n",
    "del filenames, y"
   ]
  },
  {
   "cell_type": "markdown",
   "metadata": {},
   "source": [
    "## 5) Data Augmentation"
   ]
  },
  {
   "cell_type": "code",
   "execution_count": 89,
   "metadata": {},
   "outputs": [],
   "source": [
    "# create defined function to augment the images \n",
    "datagen = ImageDataGenerator(rotation_range = 6, \n",
    "                             width_shift_range = 0.1,\n",
    "                             height_shift_range = 0.1, \n",
    "                             horizontal_flip = True,\n",
    "                             zoom_range=0.1)\n",
    "\n",
    "def augment(imp):\n",
    "    imp = datagen.random_transform(imp,  seed = 6)\n",
    "    return imp"
   ]
  },
  {
   "cell_type": "markdown",
   "metadata": {},
   "source": [
    "## 6) Data Retrieval"
   ]
  },
  {
   "cell_type": "code",
   "execution_count": 90,
   "metadata": {},
   "outputs": [],
   "source": [
    "### Creation of Custom Generator\n",
    "# Custom Generator class inherit from the keras sequence class.\n",
    "class Generator_Trn(keras.utils.Sequence) :\n",
    "    # feed parameters to the generator. image filenames as image_filenames, labels as labels and the batch size as batch_size\n",
    "    def __init__(self, image_filenames, labels, batch_size) :\n",
    "        self.image_filenames = image_filenames\n",
    "        self.labels = labels\n",
    "        self.batch_size = batch_size\n",
    "\n",
    "    # This function computes the step per epoch (from the number of samples // batch size)\n",
    "    def __len__(self) :\n",
    "        return (np.ceil(len(self.image_filenames) / float(self.batch_size))).astype(np.int)\n",
    "    \n",
    "    def __getitem__(self, idx) :\n",
    "        batch_x = self.image_filenames[idx * self.batch_size : (idx+1) * self.batch_size]\n",
    "        batch_y = self.labels[idx * self.batch_size : (idx+1) * self.batch_size]\n",
    "        # This function happens when the batch is loaded in the dataset.\n",
    "        # read image from the directory in filenames within RGB channels\n",
    "        # resize to 224 x 224 pixels\n",
    "        # standardize by divided by 255.0 to scale the value into range 0-1\n",
    "        return np.array([\n",
    "            augment(cv2.resize(cv2.imread(file_name, 1), (224, 224), interpolation = cv2.INTER_AREA))\n",
    "            for file_name in batch_x])/255.0, np.array(batch_y)\n",
    "\n",
    "    \n",
    "# Custom Generator for validate set without augmentation\n",
    "class Generator_Val(keras.utils.Sequence) :\n",
    "    def __init__(self, image_filenames, labels, batch_size) :\n",
    "        self.image_filenames = image_filenames\n",
    "        self.labels = labels\n",
    "        self.batch_size = batch_size\n",
    "    \n",
    "    def __len__(self) :\n",
    "        return (np.ceil(len(self.image_filenames) / float(self.batch_size))).astype(np.int)\n",
    "\n",
    "    def __getitem__(self, idx) :\n",
    "        batch_x = self.image_filenames[idx * self.batch_size : (idx+1) * self.batch_size]\n",
    "        batch_y = self.labels[idx * self.batch_size : (idx+1) * self.batch_size]\n",
    "        return np.array([\n",
    "            cv2.resize(cv2.imread(file_name, 1), (224, 224), interpolation = cv2.INTER_AREA)\n",
    "            for file_name in batch_x])/255.0, np.array(batch_y)    \n",
    "    \n",
    "    \n",
    "# Custom Generator for test set without augmentation and batch size is fixed to 1\n",
    "class Generator_Tst(keras.utils.Sequence) :\n",
    "    \n",
    "    def __init__(self, image_filenames, labels) :\n",
    "        self.image_filenames = image_filenames\n",
    "        self.labels = labels\n",
    "        self.batch_size = 1\n",
    "    \n",
    "    def __len__(self) :\\\n",
    "        return (np.ceil(len(self.image_filenames) / float(self.batch_size))).astype(np.int)\n",
    "\n",
    "    def __getitem__(self, idx) :\n",
    "        batch_x = self.image_filenames[idx * self.batch_size : (idx+1) * self.batch_size]\n",
    "        batch_y = self.labels[idx * self.batch_size : (idx+1) * self.batch_size]\n",
    "        return np.array([\n",
    "            cv2.resize(cv2.imread(file_name, 1), (224, 224), interpolation = cv2.INTER_AREA)\n",
    "            for file_name in batch_x])/255.0, np.array(batch_y)"
   ]
  },
  {
   "cell_type": "code",
   "execution_count": 29,
   "metadata": {},
   "outputs": [],
   "source": [
    "# determine the batch size\n",
    "batch_size = 64\n",
    "\n",
    "training_batch_generator = Generator_Trn(Xtrn, ytrn, batch_size)\n",
    "validation_batch_generator = Generator_Val(Xval, yval, batch_size)\n",
    "testing_batch_generator = Generator_Tst(Xtst, ytst)"
   ]
  },
  {
   "cell_type": "code",
   "execution_count": 30,
   "metadata": {},
   "outputs": [
    {
     "data": {
      "text/plain": [
       "<matplotlib.image.AxesImage at 0x7f46036c6eb8>"
      ]
     },
     "execution_count": 30,
     "metadata": {},
     "output_type": "execute_result"
    },
    {
     "data": {
      "image/png": "[encoded data removed]",
      "text/plain": [
       "<Figure size 432x288 with 1 Axes>"
      ]
     },
     "metadata": {
      "needs_background": "light"
     },
     "output_type": "display_data"
    }
   ],
   "source": [
    "# the example of image\n",
    "plt.imshow(cv2.cvtColor(np.float32(Generator_Trn.__getitem__(training_batch_generator,3)[0][0]), cv2.COLOR_BGR2RGB))"
   ]
  },
  {
   "cell_type": "markdown",
   "metadata": {},
   "source": [
    "## 7) Model Experiment"
   ]
  },
  {
   "cell_type": "markdown",
   "metadata": {},
   "source": [
    "### 7.1) ResNet50 architecture + imagenet weight training"
   ]
  },
  {
   "cell_type": "markdown",
   "metadata": {},
   "source": [
    "#### the architecture and the example of visualization are shown belows\n",
    "<p style=\"text-indent: 2.5em;\">\n",
    "reference: https://towardsdatascience.com/illustrated-10-cnn-architectures-95d78ace614d#e4b1"
   ]
  },
  {
   "cell_type": "markdown",
   "metadata": {},
   "source": [
    "![](./images/Resnet50.PNG)"
   ]
  },
  {
   "cell_type": "markdown",
   "metadata": {},
   "source": [
    "<p style=\"text-indent: 2.5em;\">\n",
    "Many CNNs try to increase the number of layers in the design to achieve better performance. But “with the network depth increasing, accuracy gets saturated and then degrades rapidly.”. Moreover, the vanishing gradient problem more likely to occur according to the increasing the number of layers. The Resnet architecture design for addressing this problem by using skip connections (a.k.a. shortcut connections, residuals), while building deeper models."
   ]
  },
  {
   "cell_type": "code",
   "execution_count": null,
   "metadata": {
    "scrolled": true
   },
   "outputs": [],
   "source": [
    "# download pre-trained model from keras application\n",
    "model_ResNet50_base = ResNet50(weights='imagenet', include_top=False)"
   ]
  },
  {
   "cell_type": "markdown",
   "metadata": {},
   "source": [
    "<p style=\"text-indent: 2.5em;\">\n",
    "    In this study, the ResNet50 architecture with weight training from imagenet is used to train the model. The output layer is removed then replace by three dense layers, three dropout layers, and global max pooling as shown below. There are 23,798,070 parameters in the model. The experiment will focus on freeze and unfreeze of the parameter's weight in the hidden layers inside the model."
   ]
  },
  {
   "cell_type": "code",
   "execution_count": 32,
   "metadata": {},
   "outputs": [],
   "source": [
    "# freeze model layer\n",
    "for layer in model_ResNet50_base.layers[:-7]:\n",
    "   layer.trainable = False\n",
    "# unfreeze model layer\n",
    "for layer in model_ResNet50_base.layers[-7:]:\n",
    "   layer.trainable = True"
   ]
  },
  {
   "cell_type": "markdown",
   "metadata": {},
   "source": [
    "<p style=\"text-indent: 2.5em;\">\n",
    "    In this study, the ResNet50 architecture will exclude the top layer (output dense) and build seven more layer top up on the model. We call this model as ResNetmod. The new layer includes 1) global max pooling, 2) dropout, 3) dense 100d, 4) dropout, 5) dense 50d, 6) dropout, and 7) output dense with 8d.\n",
    "<p style=\"text-indent: 2.5em;\">\n",
    "    The activation function and regularizer are experimented and changed several times in order to achieve the best model performance. For instance, relu, selu, sigmoid, and tanh are used, but the relu provide higher performance. Moreover, the L2 regularizer also added into the model."
   ]
  },
  {
   "cell_type": "code",
   "execution_count": 33,
   "metadata": {
    "scrolled": true
   },
   "outputs": [
    {
     "name": "stderr",
     "output_type": "stream",
     "text": [
      "W0819 13:21:31.631212 139941434779392 deprecation.py:506] From /usr/local/lib/python3.5/dist-packages/keras/backend/tensorflow_backend.py:3445: calling dropout (from tensorflow.python.ops.nn_ops) with keep_prob is deprecated and will be removed in a future version.\n",
      "Instructions for updating:\n",
      "Please use `rate` instead of `keep_prob`. Rate should be set to `rate = 1 - keep_prob`.\n"
     ]
    },
    {
     "name": "stdout",
     "output_type": "stream",
     "text": [
      "__________________________________________________________________________________________________\n",
      "Layer (type)                    Output Shape         Param #     Connected to                     \n",
      "==================================================================================================\n",
      "input_1 (InputLayer)            (None, None, None, 3 0                                            \n",
      "__________________________________________________________________________________________________\n",
      "conv1_pad (ZeroPadding2D)       (None, None, None, 3 0           input_1[0][0]                    \n",
      "__________________________________________________________________________________________________\n",
      "conv1 (Conv2D)                  (None, None, None, 6 9472        conv1_pad[0][0]                  \n",
      "__________________________________________________________________________________________________\n",
      "bn_conv1 (BatchNormalization)   (None, None, None, 6 256         conv1[0][0]                      \n",
      "__________________________________________________________________________________________________\n",
      "activation_1 (Activation)       (None, None, None, 6 0           bn_conv1[0][0]                   \n",
      "__________________________________________________________________________________________________\n",
      "pool1_pad (ZeroPadding2D)       (None, None, None, 6 0           activation_1[0][0]               \n",
      "__________________________________________________________________________________________________\n",
      "max_pooling2d_1 (MaxPooling2D)  (None, None, None, 6 0           pool1_pad[0][0]                  \n",
      "__________________________________________________________________________________________________\n",
      "res2a_branch2a (Conv2D)         (None, None, None, 6 4160        max_pooling2d_1[0][0]            \n",
      "__________________________________________________________________________________________________\n",
      "bn2a_branch2a (BatchNormalizati (None, None, None, 6 256         res2a_branch2a[0][0]             \n",
      "__________________________________________________________________________________________________\n",
      "activation_2 (Activation)       (None, None, None, 6 0           bn2a_branch2a[0][0]              \n",
      "__________________________________________________________________________________________________\n",
      "res2a_branch2b (Conv2D)         (None, None, None, 6 36928       activation_2[0][0]               \n",
      "__________________________________________________________________________________________________\n",
      "bn2a_branch2b (BatchNormalizati (None, None, None, 6 256         res2a_branch2b[0][0]             \n",
      "__________________________________________________________________________________________________\n",
      "activation_3 (Activation)       (None, None, None, 6 0           bn2a_branch2b[0][0]              \n",
      "__________________________________________________________________________________________________\n",
      "res2a_branch2c (Conv2D)         (None, None, None, 2 16640       activation_3[0][0]               \n",
      "__________________________________________________________________________________________________\n",
      "res2a_branch1 (Conv2D)          (None, None, None, 2 16640       max_pooling2d_1[0][0]            \n",
      "__________________________________________________________________________________________________\n",
      "bn2a_branch2c (BatchNormalizati (None, None, None, 2 1024        res2a_branch2c[0][0]             \n",
      "__________________________________________________________________________________________________\n",
      "bn2a_branch1 (BatchNormalizatio (None, None, None, 2 1024        res2a_branch1[0][0]              \n",
      "__________________________________________________________________________________________________\n",
      "add_1 (Add)                     (None, None, None, 2 0           bn2a_branch2c[0][0]              \n",
      "                                                                 bn2a_branch1[0][0]               \n",
      "__________________________________________________________________________________________________\n",
      "activation_4 (Activation)       (None, None, None, 2 0           add_1[0][0]                      \n",
      "__________________________________________________________________________________________________\n",
      "res2b_branch2a (Conv2D)         (None, None, None, 6 16448       activation_4[0][0]               \n",
      "__________________________________________________________________________________________________\n",
      "bn2b_branch2a (BatchNormalizati (None, None, None, 6 256         res2b_branch2a[0][0]             \n",
      "__________________________________________________________________________________________________\n",
      "activation_5 (Activation)       (None, None, None, 6 0           bn2b_branch2a[0][0]              \n",
      "__________________________________________________________________________________________________\n",
      "res2b_branch2b (Conv2D)         (None, None, None, 6 36928       activation_5[0][0]               \n",
      "__________________________________________________________________________________________________\n",
      "bn2b_branch2b (BatchNormalizati (None, None, None, 6 256         res2b_branch2b[0][0]             \n",
      "__________________________________________________________________________________________________\n",
      "activation_6 (Activation)       (None, None, None, 6 0           bn2b_branch2b[0][0]              \n",
      "__________________________________________________________________________________________________\n",
      "res2b_branch2c (Conv2D)         (None, None, None, 2 16640       activation_6[0][0]               \n",
      "__________________________________________________________________________________________________\n",
      "bn2b_branch2c (BatchNormalizati (None, None, None, 2 1024        res2b_branch2c[0][0]             \n",
      "__________________________________________________________________________________________________\n",
      "add_2 (Add)                     (None, None, None, 2 0           bn2b_branch2c[0][0]              \n",
      "                                                                 activation_4[0][0]               \n",
      "__________________________________________________________________________________________________\n",
      "activation_7 (Activation)       (None, None, None, 2 0           add_2[0][0]                      \n",
      "__________________________________________________________________________________________________\n",
      "res2c_branch2a (Conv2D)         (None, None, None, 6 16448       activation_7[0][0]               \n",
      "__________________________________________________________________________________________________\n",
      "bn2c_branch2a (BatchNormalizati (None, None, None, 6 256         res2c_branch2a[0][0]             \n",
      "__________________________________________________________________________________________________\n",
      "activation_8 (Activation)       (None, None, None, 6 0           bn2c_branch2a[0][0]              \n",
      "__________________________________________________________________________________________________\n",
      "res2c_branch2b (Conv2D)         (None, None, None, 6 36928       activation_8[0][0]               \n",
      "__________________________________________________________________________________________________\n",
      "bn2c_branch2b (BatchNormalizati (None, None, None, 6 256         res2c_branch2b[0][0]             \n",
      "__________________________________________________________________________________________________\n",
      "activation_9 (Activation)       (None, None, None, 6 0           bn2c_branch2b[0][0]              \n",
      "__________________________________________________________________________________________________\n",
      "res2c_branch2c (Conv2D)         (None, None, None, 2 16640       activation_9[0][0]               \n",
      "__________________________________________________________________________________________________\n",
      "bn2c_branch2c (BatchNormalizati (None, None, None, 2 1024        res2c_branch2c[0][0]             \n",
      "__________________________________________________________________________________________________\n",
      "add_3 (Add)                     (None, None, None, 2 0           bn2c_branch2c[0][0]              \n",
      "                                                                 activation_7[0][0]               \n",
      "__________________________________________________________________________________________________\n",
      "activation_10 (Activation)      (None, None, None, 2 0           add_3[0][0]                      \n",
      "__________________________________________________________________________________________________\n",
      "res3a_branch2a (Conv2D)         (None, None, None, 1 32896       activation_10[0][0]              \n",
      "__________________________________________________________________________________________________\n",
      "bn3a_branch2a (BatchNormalizati (None, None, None, 1 512         res3a_branch2a[0][0]             \n",
      "__________________________________________________________________________________________________\n",
      "activation_11 (Activation)      (None, None, None, 1 0           bn3a_branch2a[0][0]              \n",
      "__________________________________________________________________________________________________\n",
      "res3a_branch2b (Conv2D)         (None, None, None, 1 147584      activation_11[0][0]              \n",
      "__________________________________________________________________________________________________\n",
      "bn3a_branch2b (BatchNormalizati (None, None, None, 1 512         res3a_branch2b[0][0]             \n",
      "__________________________________________________________________________________________________\n",
      "activation_12 (Activation)      (None, None, None, 1 0           bn3a_branch2b[0][0]              \n",
      "__________________________________________________________________________________________________\n",
      "res3a_branch2c (Conv2D)         (None, None, None, 5 66048       activation_12[0][0]              \n",
      "__________________________________________________________________________________________________\n",
      "res3a_branch1 (Conv2D)          (None, None, None, 5 131584      activation_10[0][0]              \n",
      "__________________________________________________________________________________________________\n",
      "bn3a_branch2c (BatchNormalizati (None, None, None, 5 2048        res3a_branch2c[0][0]             \n",
      "__________________________________________________________________________________________________\n",
      "bn3a_branch1 (BatchNormalizatio (None, None, None, 5 2048        res3a_branch1[0][0]              \n",
      "__________________________________________________________________________________________________\n",
      "add_4 (Add)                     (None, None, None, 5 0           bn3a_branch2c[0][0]              \n",
      "                                                                 bn3a_branch1[0][0]               \n",
      "__________________________________________________________________________________________________\n",
      "activation_13 (Activation)      (None, None, None, 5 0           add_4[0][0]                      \n",
      "__________________________________________________________________________________________________\n",
      "res3b_branch2a (Conv2D)         (None, None, None, 1 65664       activation_13[0][0]              \n",
      "__________________________________________________________________________________________________\n",
      "bn3b_branch2a (BatchNormalizati (None, None, None, 1 512         res3b_branch2a[0][0]             \n",
      "__________________________________________________________________________________________________\n",
      "activation_14 (Activation)      (None, None, None, 1 0           bn3b_branch2a[0][0]              \n",
      "__________________________________________________________________________________________________\n",
      "res3b_branch2b (Conv2D)         (None, None, None, 1 147584      activation_14[0][0]              \n",
      "__________________________________________________________________________________________________\n",
      "bn3b_branch2b (BatchNormalizati (None, None, None, 1 512         res3b_branch2b[0][0]             \n",
      "__________________________________________________________________________________________________\n",
      "activation_15 (Activation)      (None, None, None, 1 0           bn3b_branch2b[0][0]              \n",
      "__________________________________________________________________________________________________\n",
      "res3b_branch2c (Conv2D)         (None, None, None, 5 66048       activation_15[0][0]              \n",
      "__________________________________________________________________________________________________\n",
      "bn3b_branch2c (BatchNormalizati (None, None, None, 5 2048        res3b_branch2c[0][0]             \n",
      "__________________________________________________________________________________________________\n",
      "add_5 (Add)                     (None, None, None, 5 0           bn3b_branch2c[0][0]              \n",
      "                                                                 activation_13[0][0]              \n",
      "__________________________________________________________________________________________________\n",
      "activation_16 (Activation)      (None, None, None, 5 0           add_5[0][0]                      \n",
      "__________________________________________________________________________________________________\n",
      "res3c_branch2a (Conv2D)         (None, None, None, 1 65664       activation_16[0][0]              \n",
      "__________________________________________________________________________________________________\n",
      "bn3c_branch2a (BatchNormalizati (None, None, None, 1 512         res3c_branch2a[0][0]             \n",
      "__________________________________________________________________________________________________\n",
      "activation_17 (Activation)      (None, None, None, 1 0           bn3c_branch2a[0][0]              \n",
      "__________________________________________________________________________________________________\n",
      "res3c_branch2b (Conv2D)         (None, None, None, 1 147584      activation_17[0][0]              \n",
      "__________________________________________________________________________________________________\n",
      "bn3c_branch2b (BatchNormalizati (None, None, None, 1 512         res3c_branch2b[0][0]             \n",
      "__________________________________________________________________________________________________\n",
      "activation_18 (Activation)      (None, None, None, 1 0           bn3c_branch2b[0][0]              \n",
      "__________________________________________________________________________________________________\n",
      "res3c_branch2c (Conv2D)         (None, None, None, 5 66048       activation_18[0][0]              \n",
      "__________________________________________________________________________________________________\n",
      "bn3c_branch2c (BatchNormalizati (None, None, None, 5 2048        res3c_branch2c[0][0]             \n",
      "__________________________________________________________________________________________________\n",
      "add_6 (Add)                     (None, None, None, 5 0           bn3c_branch2c[0][0]              \n",
      "                                                                 activation_16[0][0]              \n",
      "__________________________________________________________________________________________________\n",
      "activation_19 (Activation)      (None, None, None, 5 0           add_6[0][0]                      \n",
      "__________________________________________________________________________________________________\n",
      "res3d_branch2a (Conv2D)         (None, None, None, 1 65664       activation_19[0][0]              \n",
      "__________________________________________________________________________________________________\n",
      "bn3d_branch2a (BatchNormalizati (None, None, None, 1 512         res3d_branch2a[0][0]             \n",
      "__________________________________________________________________________________________________\n",
      "activation_20 (Activation)      (None, None, None, 1 0           bn3d_branch2a[0][0]              \n",
      "__________________________________________________________________________________________________\n",
      "res3d_branch2b (Conv2D)         (None, None, None, 1 147584      activation_20[0][0]              \n",
      "__________________________________________________________________________________________________\n",
      "bn3d_branch2b (BatchNormalizati (None, None, None, 1 512         res3d_branch2b[0][0]             \n",
      "__________________________________________________________________________________________________\n",
      "activation_21 (Activation)      (None, None, None, 1 0           bn3d_branch2b[0][0]              \n",
      "__________________________________________________________________________________________________\n",
      "res3d_branch2c (Conv2D)         (None, None, None, 5 66048       activation_21[0][0]              \n",
      "__________________________________________________________________________________________________\n",
      "bn3d_branch2c (BatchNormalizati (None, None, None, 5 2048        res3d_branch2c[0][0]             \n",
      "__________________________________________________________________________________________________\n",
      "add_7 (Add)                     (None, None, None, 5 0           bn3d_branch2c[0][0]              \n",
      "                                                                 activation_19[0][0]              \n",
      "__________________________________________________________________________________________________\n",
      "activation_22 (Activation)      (None, None, None, 5 0           add_7[0][0]                      \n",
      "__________________________________________________________________________________________________\n",
      "res4a_branch2a (Conv2D)         (None, None, None, 2 131328      activation_22[0][0]              \n",
      "__________________________________________________________________________________________________\n",
      "bn4a_branch2a (BatchNormalizati (None, None, None, 2 1024        res4a_branch2a[0][0]             \n",
      "__________________________________________________________________________________________________\n",
      "activation_23 (Activation)      (None, None, None, 2 0           bn4a_branch2a[0][0]              \n",
      "__________________________________________________________________________________________________\n",
      "res4a_branch2b (Conv2D)         (None, None, None, 2 590080      activation_23[0][0]              \n",
      "__________________________________________________________________________________________________\n",
      "bn4a_branch2b (BatchNormalizati (None, None, None, 2 1024        res4a_branch2b[0][0]             \n",
      "__________________________________________________________________________________________________\n",
      "activation_24 (Activation)      (None, None, None, 2 0           bn4a_branch2b[0][0]              \n",
      "__________________________________________________________________________________________________\n",
      "res4a_branch2c (Conv2D)         (None, None, None, 1 263168      activation_24[0][0]              \n",
      "__________________________________________________________________________________________________\n",
      "res4a_branch1 (Conv2D)          (None, None, None, 1 525312      activation_22[0][0]              \n",
      "__________________________________________________________________________________________________\n",
      "bn4a_branch2c (BatchNormalizati (None, None, None, 1 4096        res4a_branch2c[0][0]             \n",
      "__________________________________________________________________________________________________\n",
      "bn4a_branch1 (BatchNormalizatio (None, None, None, 1 4096        res4a_branch1[0][0]              \n",
      "__________________________________________________________________________________________________\n",
      "add_8 (Add)                     (None, None, None, 1 0           bn4a_branch2c[0][0]              \n",
      "                                                                 bn4a_branch1[0][0]               \n",
      "__________________________________________________________________________________________________\n",
      "activation_25 (Activation)      (None, None, None, 1 0           add_8[0][0]                      \n",
      "__________________________________________________________________________________________________\n",
      "res4b_branch2a (Conv2D)         (None, None, None, 2 262400      activation_25[0][0]              \n",
      "__________________________________________________________________________________________________\n",
      "bn4b_branch2a (BatchNormalizati (None, None, None, 2 1024        res4b_branch2a[0][0]             \n",
      "__________________________________________________________________________________________________\n",
      "activation_26 (Activation)      (None, None, None, 2 0           bn4b_branch2a[0][0]              \n",
      "__________________________________________________________________________________________________\n",
      "res4b_branch2b (Conv2D)         (None, None, None, 2 590080      activation_26[0][0]              \n",
      "__________________________________________________________________________________________________\n",
      "bn4b_branch2b (BatchNormalizati (None, None, None, 2 1024        res4b_branch2b[0][0]             \n",
      "__________________________________________________________________________________________________\n",
      "activation_27 (Activation)      (None, None, None, 2 0           bn4b_branch2b[0][0]              \n",
      "__________________________________________________________________________________________________\n",
      "res4b_branch2c (Conv2D)         (None, None, None, 1 263168      activation_27[0][0]              \n",
      "__________________________________________________________________________________________________\n",
      "bn4b_branch2c (BatchNormalizati (None, None, None, 1 4096        res4b_branch2c[0][0]             \n",
      "__________________________________________________________________________________________________\n",
      "add_9 (Add)                     (None, None, None, 1 0           bn4b_branch2c[0][0]              \n",
      "                                                                 activation_25[0][0]              \n",
      "__________________________________________________________________________________________________\n",
      "activation_28 (Activation)      (None, None, None, 1 0           add_9[0][0]                      \n",
      "__________________________________________________________________________________________________\n",
      "res4c_branch2a (Conv2D)         (None, None, None, 2 262400      activation_28[0][0]              \n",
      "__________________________________________________________________________________________________\n",
      "bn4c_branch2a (BatchNormalizati (None, None, None, 2 1024        res4c_branch2a[0][0]             \n",
      "__________________________________________________________________________________________________\n",
      "activation_29 (Activation)      (None, None, None, 2 0           bn4c_branch2a[0][0]              \n",
      "__________________________________________________________________________________________________\n",
      "res4c_branch2b (Conv2D)         (None, None, None, 2 590080      activation_29[0][0]              \n",
      "__________________________________________________________________________________________________\n",
      "bn4c_branch2b (BatchNormalizati (None, None, None, 2 1024        res4c_branch2b[0][0]             \n",
      "__________________________________________________________________________________________________\n",
      "activation_30 (Activation)      (None, None, None, 2 0           bn4c_branch2b[0][0]              \n",
      "__________________________________________________________________________________________________\n",
      "res4c_branch2c (Conv2D)         (None, None, None, 1 263168      activation_30[0][0]              \n",
      "__________________________________________________________________________________________________\n",
      "bn4c_branch2c (BatchNormalizati (None, None, None, 1 4096        res4c_branch2c[0][0]             \n",
      "__________________________________________________________________________________________________\n",
      "add_10 (Add)                    (None, None, None, 1 0           bn4c_branch2c[0][0]              \n",
      "                                                                 activation_28[0][0]              \n",
      "__________________________________________________________________________________________________\n",
      "activation_31 (Activation)      (None, None, None, 1 0           add_10[0][0]                     \n",
      "__________________________________________________________________________________________________\n",
      "res4d_branch2a (Conv2D)         (None, None, None, 2 262400      activation_31[0][0]              \n",
      "__________________________________________________________________________________________________\n",
      "bn4d_branch2a (BatchNormalizati (None, None, None, 2 1024        res4d_branch2a[0][0]             \n",
      "__________________________________________________________________________________________________\n",
      "activation_32 (Activation)      (None, None, None, 2 0           bn4d_branch2a[0][0]              \n",
      "__________________________________________________________________________________________________\n",
      "res4d_branch2b (Conv2D)         (None, None, None, 2 590080      activation_32[0][0]              \n",
      "__________________________________________________________________________________________________\n",
      "bn4d_branch2b (BatchNormalizati (None, None, None, 2 1024        res4d_branch2b[0][0]             \n",
      "__________________________________________________________________________________________________\n",
      "activation_33 (Activation)      (None, None, None, 2 0           bn4d_branch2b[0][0]              \n",
      "__________________________________________________________________________________________________\n",
      "res4d_branch2c (Conv2D)         (None, None, None, 1 263168      activation_33[0][0]              \n",
      "__________________________________________________________________________________________________\n",
      "bn4d_branch2c (BatchNormalizati (None, None, None, 1 4096        res4d_branch2c[0][0]             \n",
      "__________________________________________________________________________________________________\n",
      "add_11 (Add)                    (None, None, None, 1 0           bn4d_branch2c[0][0]              \n",
      "                                                                 activation_31[0][0]              \n",
      "__________________________________________________________________________________________________\n",
      "activation_34 (Activation)      (None, None, None, 1 0           add_11[0][0]                     \n",
      "__________________________________________________________________________________________________\n",
      "res4e_branch2a (Conv2D)         (None, None, None, 2 262400      activation_34[0][0]              \n",
      "__________________________________________________________________________________________________\n",
      "bn4e_branch2a (BatchNormalizati (None, None, None, 2 1024        res4e_branch2a[0][0]             \n",
      "__________________________________________________________________________________________________\n",
      "activation_35 (Activation)      (None, None, None, 2 0           bn4e_branch2a[0][0]              \n",
      "__________________________________________________________________________________________________\n",
      "res4e_branch2b (Conv2D)         (None, None, None, 2 590080      activation_35[0][0]              \n",
      "__________________________________________________________________________________________________\n",
      "bn4e_branch2b (BatchNormalizati (None, None, None, 2 1024        res4e_branch2b[0][0]             \n",
      "__________________________________________________________________________________________________\n",
      "activation_36 (Activation)      (None, None, None, 2 0           bn4e_branch2b[0][0]              \n",
      "__________________________________________________________________________________________________\n",
      "res4e_branch2c (Conv2D)         (None, None, None, 1 263168      activation_36[0][0]              \n",
      "__________________________________________________________________________________________________\n",
      "bn4e_branch2c (BatchNormalizati (None, None, None, 1 4096        res4e_branch2c[0][0]             \n",
      "__________________________________________________________________________________________________\n",
      "add_12 (Add)                    (None, None, None, 1 0           bn4e_branch2c[0][0]              \n",
      "                                                                 activation_34[0][0]              \n",
      "__________________________________________________________________________________________________\n",
      "activation_37 (Activation)      (None, None, None, 1 0           add_12[0][0]                     \n",
      "__________________________________________________________________________________________________\n",
      "res4f_branch2a (Conv2D)         (None, None, None, 2 262400      activation_37[0][0]              \n",
      "__________________________________________________________________________________________________\n",
      "bn4f_branch2a (BatchNormalizati (None, None, None, 2 1024        res4f_branch2a[0][0]             \n",
      "__________________________________________________________________________________________________\n",
      "activation_38 (Activation)      (None, None, None, 2 0           bn4f_branch2a[0][0]              \n",
      "__________________________________________________________________________________________________\n",
      "res4f_branch2b (Conv2D)         (None, None, None, 2 590080      activation_38[0][0]              \n",
      "__________________________________________________________________________________________________\n",
      "bn4f_branch2b (BatchNormalizati (None, None, None, 2 1024        res4f_branch2b[0][0]             \n",
      "__________________________________________________________________________________________________\n",
      "activation_39 (Activation)      (None, None, None, 2 0           bn4f_branch2b[0][0]              \n",
      "__________________________________________________________________________________________________\n",
      "res4f_branch2c (Conv2D)         (None, None, None, 1 263168      activation_39[0][0]              \n",
      "__________________________________________________________________________________________________\n",
      "bn4f_branch2c (BatchNormalizati (None, None, None, 1 4096        res4f_branch2c[0][0]             \n",
      "__________________________________________________________________________________________________\n",
      "add_13 (Add)                    (None, None, None, 1 0           bn4f_branch2c[0][0]              \n",
      "                                                                 activation_37[0][0]              \n",
      "__________________________________________________________________________________________________\n",
      "activation_40 (Activation)      (None, None, None, 1 0           add_13[0][0]                     \n",
      "__________________________________________________________________________________________________\n",
      "res5a_branch2a (Conv2D)         (None, None, None, 5 524800      activation_40[0][0]              \n",
      "__________________________________________________________________________________________________\n",
      "bn5a_branch2a (BatchNormalizati (None, None, None, 5 2048        res5a_branch2a[0][0]             \n",
      "__________________________________________________________________________________________________\n",
      "activation_41 (Activation)      (None, None, None, 5 0           bn5a_branch2a[0][0]              \n",
      "__________________________________________________________________________________________________\n",
      "res5a_branch2b (Conv2D)         (None, None, None, 5 2359808     activation_41[0][0]              \n",
      "__________________________________________________________________________________________________\n",
      "bn5a_branch2b (BatchNormalizati (None, None, None, 5 2048        res5a_branch2b[0][0]             \n",
      "__________________________________________________________________________________________________\n",
      "activation_42 (Activation)      (None, None, None, 5 0           bn5a_branch2b[0][0]              \n",
      "__________________________________________________________________________________________________\n",
      "res5a_branch2c (Conv2D)         (None, None, None, 2 1050624     activation_42[0][0]              \n",
      "__________________________________________________________________________________________________\n",
      "res5a_branch1 (Conv2D)          (None, None, None, 2 2099200     activation_40[0][0]              \n",
      "__________________________________________________________________________________________________\n",
      "bn5a_branch2c (BatchNormalizati (None, None, None, 2 8192        res5a_branch2c[0][0]             \n",
      "__________________________________________________________________________________________________\n",
      "bn5a_branch1 (BatchNormalizatio (None, None, None, 2 8192        res5a_branch1[0][0]              \n",
      "__________________________________________________________________________________________________\n",
      "add_14 (Add)                    (None, None, None, 2 0           bn5a_branch2c[0][0]              \n",
      "                                                                 bn5a_branch1[0][0]               \n",
      "__________________________________________________________________________________________________\n",
      "activation_43 (Activation)      (None, None, None, 2 0           add_14[0][0]                     \n",
      "__________________________________________________________________________________________________\n",
      "res5b_branch2a (Conv2D)         (None, None, None, 5 1049088     activation_43[0][0]              \n",
      "__________________________________________________________________________________________________\n",
      "bn5b_branch2a (BatchNormalizati (None, None, None, 5 2048        res5b_branch2a[0][0]             \n",
      "__________________________________________________________________________________________________\n",
      "activation_44 (Activation)      (None, None, None, 5 0           bn5b_branch2a[0][0]              \n",
      "__________________________________________________________________________________________________\n",
      "res5b_branch2b (Conv2D)         (None, None, None, 5 2359808     activation_44[0][0]              \n",
      "__________________________________________________________________________________________________\n",
      "bn5b_branch2b (BatchNormalizati (None, None, None, 5 2048        res5b_branch2b[0][0]             \n",
      "__________________________________________________________________________________________________\n",
      "activation_45 (Activation)      (None, None, None, 5 0           bn5b_branch2b[0][0]              \n",
      "__________________________________________________________________________________________________\n",
      "res5b_branch2c (Conv2D)         (None, None, None, 2 1050624     activation_45[0][0]              \n",
      "__________________________________________________________________________________________________\n",
      "bn5b_branch2c (BatchNormalizati (None, None, None, 2 8192        res5b_branch2c[0][0]             \n",
      "__________________________________________________________________________________________________\n",
      "add_15 (Add)                    (None, None, None, 2 0           bn5b_branch2c[0][0]              \n",
      "                                                                 activation_43[0][0]              \n",
      "__________________________________________________________________________________________________\n",
      "activation_46 (Activation)      (None, None, None, 2 0           add_15[0][0]                     \n",
      "__________________________________________________________________________________________________\n",
      "res5c_branch2a (Conv2D)         (None, None, None, 5 1049088     activation_46[0][0]              \n",
      "__________________________________________________________________________________________________\n",
      "bn5c_branch2a (BatchNormalizati (None, None, None, 5 2048        res5c_branch2a[0][0]             \n",
      "__________________________________________________________________________________________________\n",
      "activation_47 (Activation)      (None, None, None, 5 0           bn5c_branch2a[0][0]              \n",
      "__________________________________________________________________________________________________\n",
      "res5c_branch2b (Conv2D)         (None, None, None, 5 2359808     activation_47[0][0]              \n",
      "__________________________________________________________________________________________________\n",
      "bn5c_branch2b (BatchNormalizati (None, None, None, 5 2048        res5c_branch2b[0][0]             \n",
      "__________________________________________________________________________________________________\n",
      "activation_48 (Activation)      (None, None, None, 5 0           bn5c_branch2b[0][0]              \n",
      "__________________________________________________________________________________________________\n",
      "res5c_branch2c (Conv2D)         (None, None, None, 2 1050624     activation_48[0][0]              \n",
      "__________________________________________________________________________________________________\n",
      "bn5c_branch2c (BatchNormalizati (None, None, None, 2 8192        res5c_branch2c[0][0]             \n",
      "__________________________________________________________________________________________________\n",
      "add_16 (Add)                    (None, None, None, 2 0           bn5c_branch2c[0][0]              \n",
      "                                                                 activation_46[0][0]              \n",
      "__________________________________________________________________________________________________\n",
      "activation_49 (Activation)      (None, None, None, 2 0           add_16[0][0]                     \n",
      "__________________________________________________________________________________________________\n",
      "global_max_pooling2d_1 (GlobalM (None, 2048)         0           activation_49[0][0]              \n",
      "__________________________________________________________________________________________________\n",
      "dropout_1 (Dropout)             (None, 2048)         0           global_max_pooling2d_1[0][0]     \n",
      "__________________________________________________________________________________________________\n",
      "dense_1 (Dense)                 (None, 100)          204900      dropout_1[0][0]                  \n",
      "__________________________________________________________________________________________________\n",
      "dropout_2 (Dropout)             (None, 100)          0           dense_1[0][0]                    \n",
      "__________________________________________________________________________________________________\n",
      "dense_2 (Dense)                 (None, 50)           5050        dropout_2[0][0]                  \n",
      "__________________________________________________________________________________________________\n",
      "dropout_3 (Dropout)             (None, 50)           0           dense_2[0][0]                    \n",
      "__________________________________________________________________________________________________\n",
      "dense_3 (Dense)                 (None, 8)            408         dropout_3[0][0]                  \n",
      "==================================================================================================\n",
      "Total params: 23,798,070\n",
      "Trainable params: 3,625,910\n",
      "Non-trainable params: 20,172,160\n",
      "__________________________________________________________________________________________________\n"
     ]
    }
   ],
   "source": [
    "# build the new output layer and the hidden layers before it\n",
    "ResNetmod = model_ResNet50_base.output\n",
    "ResNetmod = GlobalMaxPooling2D()(ResNetmod)\n",
    "ResNetmod = Dropout(0.5)(ResNetmod)\n",
    "ResNetmod = Dense(100, activation=\"relu\", kernel_regularizer=keras.regularizers.l2(0.01))(ResNetmod)\n",
    "ResNetmod = Dropout(0.5)(ResNetmod)\n",
    "ResNetmod = Dense(50, activation=\"relu\", kernel_regularizer=keras.regularizers.l2(0.01))(ResNetmod)\n",
    "ResNetmod = Dropout(0.5)(ResNetmod)\n",
    "ResNetmod = Dense(8, activation=\"softmax\")(ResNetmod)\n",
    "\n",
    "# combine pre-trained architecture with the new custom output layers\n",
    "ResNet = Model(model_ResNet50_base.input, ResNetmod)\n",
    "ResNet.summary()"
   ]
  },
  {
   "cell_type": "markdown",
   "metadata": {},
   "source": [
    "#### the trainable parameters = 3,625,910"
   ]
  },
  {
   "cell_type": "code",
   "execution_count": 43,
   "metadata": {},
   "outputs": [],
   "source": [
    "## compile model\n",
    "# using sparse_categorical_crossentropy for categorical y\n",
    "# learning rate = 0.00001\n",
    "# momentum decay = 0.9\n",
    "# scaling decay = 0.999\n",
    "ResNet.compile(loss=\"sparse_categorical_crossentropy\", metrics = ['acc'], optimizer = keras.optimizers.Adam(lr = 0.00001, beta_1 = 0.9, beta_2 = 0.999))"
   ]
  },
  {
   "cell_type": "code",
   "execution_count": null,
   "metadata": {},
   "outputs": [],
   "source": [
    "# create check point path\n",
    "os.mknod('./ResNet_checkpoint.h5')"
   ]
  },
  {
   "cell_type": "code",
   "execution_count": 42,
   "metadata": {},
   "outputs": [],
   "source": [
    "## create callback list\n",
    "# check point for saving best model weight and architecture\n",
    "ck_ResNet = keras.callbacks.ModelCheckpoint(\"ResNet_checkpoint.h5\", monitor = 'val_acc', save_best_only = True)\n",
    "# Early stop criteria in validation loss\n",
    "es1_ResNet = keras.callbacks.EarlyStopping(patience = 10, min_delta = 0.001, monitor = 'val_loss')\n",
    "# Early stop criteria in validation accuracy\n",
    "es2_ResNet = keras.callbacks.EarlyStopping(patience = 10, min_delta = 0.001, monitor = 'val_acc')\n",
    "# create class weight for imbalance class\n",
    "class_weights = class_weight.compute_class_weight('balanced', np.unique(ytrn), ytrn)"
   ]
  },
  {
   "cell_type": "code",
   "execution_count": 46,
   "metadata": {
    "scrolled": true
   },
   "outputs": [
    {
     "name": "stdout",
     "output_type": "stream",
     "text": [
      "Epoch 1/500\n",
      "218/218 [==============================] - 127s 584ms/step - loss: 12.5390 - acc: 0.1863 - val_loss: 5.2030 - val_acc: 0.2879\n",
      "Epoch 2/500\n",
      "218/218 [==============================] - 128s 587ms/step - loss: 11.2891 - acc: 0.1952 - val_loss: 4.8456 - val_acc: 0.2879\n",
      "Epoch 3/500\n",
      "218/218 [==============================] - 128s 588ms/step - loss: 9.8859 - acc: 0.1838 - val_loss: 4.6491 - val_acc: 0.2879\n",
      "Epoch 4/500\n",
      "218/218 [==============================] - 128s 587ms/step - loss: 8.1158 - acc: 0.1829 - val_loss: 4.5808 - val_acc: 0.2879\n",
      "Epoch 5/500\n",
      "218/218 [==============================] - 128s 587ms/step - loss: 6.6046 - acc: 0.1771 - val_loss: 4.5444 - val_acc: 0.2879\n",
      "Epoch 6/500\n",
      "218/218 [==============================] - 128s 589ms/step - loss: 5.6131 - acc: 0.1883 - val_loss: 4.5326 - val_acc: 0.2879\n",
      "Epoch 7/500\n",
      "218/218 [==============================] - 128s 587ms/step - loss: 5.1663 - acc: 0.2038 - val_loss: 4.5321 - val_acc: 0.2879\n",
      "Epoch 8/500\n",
      "218/218 [==============================] - 128s 588ms/step - loss: 4.9674 - acc: 0.2264 - val_loss: 4.5319 - val_acc: 0.2879\n",
      "Epoch 9/500\n",
      "218/218 [==============================] - 128s 586ms/step - loss: 4.8427 - acc: 0.2353 - val_loss: 4.5322 - val_acc: 0.2879\n",
      "Epoch 10/500\n",
      "218/218 [==============================] - 128s 588ms/step - loss: 4.7909 - acc: 0.2430 - val_loss: 4.5328 - val_acc: 0.2879\n",
      "Epoch 11/500\n",
      "218/218 [==============================] - 128s 585ms/step - loss: 4.7238 - acc: 0.2556 - val_loss: 4.5323 - val_acc: 0.2879\n"
     ]
    }
   ],
   "source": [
    "# fit the model\n",
    "history_ResNet = ResNet.fit_generator(generator=training_batch_generator,\n",
    "                                      steps_per_epoch = training_batch_generator.__len__(),\n",
    "                                      epochs = 500, verbose = 1,\n",
    "                                      validation_data = validation_batch_generator,\n",
    "                                      validation_steps = validation_batch_generator.__len__(),\n",
    "                                      callbacks = [ck_ResNet, es1_ResNet, es2_ResNet],\n",
    "                                      workers = 20, \n",
    "                                      class_weight = class_weights)"
   ]
  },
  {
   "cell_type": "code",
   "execution_count": 47,
   "metadata": {},
   "outputs": [
    {
     "data": {
      "text/plain": [
       "['./dict/history_ResNet.pkl']"
      ]
     },
     "execution_count": 47,
     "metadata": {},
     "output_type": "execute_result"
    }
   ],
   "source": [
    "joblib.dump(history_ResNet, './dict/history_ResNet.pkl')"
   ]
  },
  {
   "cell_type": "code",
   "execution_count": null,
   "metadata": {},
   "outputs": [],
   "source": [
    "# history_ResNet = joblib.load('./dict/history_ResNet.pkl')"
   ]
  },
  {
   "cell_type": "code",
   "execution_count": 48,
   "metadata": {},
   "outputs": [
    {
     "data": {
      "image/png": "[encoded data removed]",
      "text/plain": [
       "<Figure size 576x360 with 1 Axes>"
      ]
     },
     "metadata": {
      "needs_background": "light"
     },
     "output_type": "display_data"
    }
   ],
   "source": [
    "pd.DataFrame(history_ResNet.history).loc[:,['acc','val_acc']].plot(figsize=(8, 5))\n",
    "plt.grid(True)\n",
    "plt.gca()\n",
    "plt.title('The comparison between train and validate accuracy of Resnet50 (imagenet wieght)')\n",
    "plt.show()"
   ]
  },
  {
   "cell_type": "markdown",
   "metadata": {},
   "source": [
    "The training accuracy is very low and validate accuracy is very low and doesn't move since the first epoch indicate that the model is not worth to apply or extend to other work."
   ]
  },
  {
   "cell_type": "code",
   "execution_count": 49,
   "metadata": {},
   "outputs": [
    {
     "data": {
      "image/png": "[encoded data removed]",
      "text/plain": [
       "<Figure size 576x360 with 1 Axes>"
      ]
     },
     "metadata": {
      "needs_background": "light"
     },
     "output_type": "display_data"
    }
   ],
   "source": [
    "pd.DataFrame(history_ResNet.history).loc[:,['loss','val_loss']].plot(figsize=(8, 5))\n",
    "plt.grid(True)\n",
    "plt.gca()\n",
    "plt.title('The comparison between train and validate loss of Resnet50 (imagenet wieght)')\n",
    "plt.show()"
   ]
  },
  {
   "cell_type": "markdown",
   "metadata": {},
   "source": [
    "<p style=\"text-indent: 2.5em;\">\n",
    "    After experimenting on unfreezing model layer several times, the train and validate accuracies of the Resnet50 pre-trained model (Resnet50 architecture + imagenet weight training) do not increase (validate accuracy stuck at 0.2879) to the satisfaction level. As a result, this model is not suitable for the study. This may be caused by the weight training trained by imagenet database which contains more than a thousand images per one concept (class) and includes 21,841 concepts (all kind of pictures, i.e.,  animals, devices, plants, food, vehicle, and person). The class label is too different from the objective of the study which only focuses on the human faces for age prediction."
   ]
  },
  {
   "cell_type": "markdown",
   "metadata": {},
   "source": [
    "### 7.2) VGG-Very-Deep-16 CNN architecture + VGG-Face weight training"
   ]
  },
  {
   "cell_type": "markdown",
   "metadata": {},
   "source": [
    "#### the architecture and the example of visualization are shown belows\n",
    "<p style=\"text-indent: 2.5em;\">\n",
    "reference: https://sefiks.com/2018/08/06/deep-face-recognition-with-keras/"
   ]
  },
  {
   "cell_type": "markdown",
   "metadata": {},
   "source": [
    "![](./images/VGGface2.jpg)"
   ]
  },
  {
   "cell_type": "markdown",
   "metadata": {},
   "source": [
    "![](./images/VGGface1.jpg)"
   ]
  },
  {
   "cell_type": "markdown",
   "metadata": {},
   "source": [
    "<p style=\"text-indent: 2.5em;\">\n",
    "    This study applies the transfer learning using pre-trained weights of VGG Face model. Even though The VGG train on imagenet version is almost the same architecture but the VGG Face model was dedicated training-set images to tune weights for face recognition, which similar to the study objective that focuses on the human face image."
   ]
  },
  {
   "cell_type": "code",
   "execution_count": 50,
   "metadata": {},
   "outputs": [],
   "source": [
    "# create model architecture\n",
    "VGG_mod = Sequential()\n",
    "VGG_mod.add(ZeroPadding2D((1,1),input_shape=(224,224, 3)))\n",
    "VGG_mod.add(Convolution2D(64, (3, 3), activation='relu'))\n",
    "VGG_mod.add(ZeroPadding2D((1,1)))\n",
    "VGG_mod.add(Convolution2D(64, (3, 3), activation='relu'))\n",
    "VGG_mod.add(MaxPooling2D((2,2), strides=(2,2)))\n",
    " \n",
    "VGG_mod.add(ZeroPadding2D((1,1)))\n",
    "VGG_mod.add(Convolution2D(128, (3, 3), activation='relu'))\n",
    "VGG_mod.add(ZeroPadding2D((1,1)))\n",
    "VGG_mod.add(Convolution2D(128, (3, 3), activation='relu'))\n",
    "VGG_mod.add(MaxPooling2D((2,2), strides=(2,2)))\n",
    " \n",
    "VGG_mod.add(ZeroPadding2D((1,1)))\n",
    "VGG_mod.add(Convolution2D(256, (3, 3), activation='relu'))\n",
    "VGG_mod.add(ZeroPadding2D((1,1)))\n",
    "VGG_mod.add(Convolution2D(256, (3, 3), activation='relu'))\n",
    "VGG_mod.add(ZeroPadding2D((1,1)))\n",
    "VGG_mod.add(Convolution2D(256, (3, 3), activation='relu'))\n",
    "VGG_mod.add(MaxPooling2D((2,2), strides=(2,2)))\n",
    " \n",
    "VGG_mod.add(ZeroPadding2D((1,1)))\n",
    "VGG_mod.add(Convolution2D(512, (3, 3), activation='relu'))\n",
    "VGG_mod.add(ZeroPadding2D((1,1)))\n",
    "VGG_mod.add(Convolution2D(512, (3, 3), activation='relu'))\n",
    "VGG_mod.add(ZeroPadding2D((1,1)))\n",
    "VGG_mod.add(Convolution2D(512, (3, 3), activation='relu'))\n",
    "VGG_mod.add(MaxPooling2D((2,2), strides=(2,2)))\n",
    " \n",
    "VGG_mod.add(ZeroPadding2D((1,1)))\n",
    "VGG_mod.add(Convolution2D(512, (3, 3), activation='relu'))\n",
    "VGG_mod.add(ZeroPadding2D((1,1)))\n",
    "VGG_mod.add(Convolution2D(512, (3, 3), activation='relu'))\n",
    "VGG_mod.add(ZeroPadding2D((1,1)))\n",
    "VGG_mod.add(Convolution2D(512, (3, 3), activation='relu'))\n",
    "VGG_mod.add(MaxPooling2D((2,2), strides=(2,2)))\n",
    " \n",
    "VGG_mod.add(Convolution2D(4096, (7, 7), activation='relu'))\n",
    "VGG_mod.add(Dropout(0.2))\n",
    "VGG_mod.add(Convolution2D(4096, (1, 1), activation='relu'))\n",
    "VGG_mod.add(Convolution2D(2622, (1, 1)))\n",
    "VGG_mod.add(Flatten())\n",
    "VGG_mod.add(Activation('softmax'))\n",
    "\n",
    "# load weight\n",
    "VGG_mod.load_weights('./pretrain/vgg_face_weights.h5')"
   ]
  },
  {
   "cell_type": "markdown",
   "metadata": {},
   "source": [
    "<p style=\"text-indent: 2.5em;\">\n",
    "    In this study, the VGGface architecture with weight training from VGGface is used to train the model. The output layer is removed then replace by three dense layers, and three dropout layers as shown below. There are 145,270,636 parameters in the model. The experiment will focus on freeze and unfreeze of the parameter's weight in the hidden layers inside the model."
   ]
  },
  {
   "cell_type": "code",
   "execution_count": 51,
   "metadata": {},
   "outputs": [],
   "source": [
    "# freeze model layers\n",
    "for layer in VGG_mod.layers[:-5]:\n",
    "   layer.trainable = False\n",
    "# unfreeze model layers\n",
    "for layer in VGG_mod.layers[-5:]:\n",
    "   layer.trainable = True"
   ]
  },
  {
   "cell_type": "code",
   "execution_count": 52,
   "metadata": {},
   "outputs": [],
   "source": [
    "# build the new output layer and the hidden layers before it\n",
    "VGGface = VGG_mod.layers[-2].output\n",
    "VGGface = Dropout(0.2)(VGGface)\n",
    "VGGface = Dense(100, activation=\"relu\", kernel_regularizer=keras.regularizers.l2(0.01))(VGGface)\n",
    "VGGface = Dropout(0.2)(VGGface)\n",
    "VGGface = Dense(50, activation=\"relu\", kernel_regularizer=keras.regularizers.l2(0.01))(VGGface)\n",
    "VGGface = Dropout(0.2)(VGGface)\n",
    "VGGface = Dense(8, activation=\"softmax\")(VGGface)"
   ]
  },
  {
   "cell_type": "markdown",
   "metadata": {},
   "source": [
    "<p style=\"text-indent: 2.5em;\">\n",
    "    In this study, the VGGface architecture will exclude the top layer (output dense) and build six more layer top up on the model. The new layer includes 1) dropout, 2) dense 100d, 3) dropout, 4) dense 50d, 5) dropout, and 6) output dense with 8d.\n",
    "<p style=\"text-indent: 2.5em;\">\n",
    "    The activation function and regularizer are experimented and changed several times in order to achieve the best model performance. For instance, relu, selu, sigmoid, and tanh are used, but the relu provide higher performance. Moreover, the L2 regularizer also added into the model."
   ]
  },
  {
   "cell_type": "code",
   "execution_count": 53,
   "metadata": {
    "scrolled": true
   },
   "outputs": [
    {
     "name": "stdout",
     "output_type": "stream",
     "text": [
      "_________________________________________________________________\n",
      "Layer (type)                 Output Shape              Param #   \n",
      "=================================================================\n",
      "zero_padding2d_14_input (Inp (None, 224, 224, 3)       0         \n",
      "_________________________________________________________________\n",
      "zero_padding2d_14 (ZeroPaddi (None, 226, 226, 3)       0         \n",
      "_________________________________________________________________\n",
      "conv2d_17 (Conv2D)           (None, 224, 224, 64)      1792      \n",
      "_________________________________________________________________\n",
      "zero_padding2d_15 (ZeroPaddi (None, 226, 226, 64)      0         \n",
      "_________________________________________________________________\n",
      "conv2d_18 (Conv2D)           (None, 224, 224, 64)      36928     \n",
      "_________________________________________________________________\n",
      "max_pooling2d_7 (MaxPooling2 (None, 112, 112, 64)      0         \n",
      "_________________________________________________________________\n",
      "zero_padding2d_16 (ZeroPaddi (None, 114, 114, 64)      0         \n",
      "_________________________________________________________________\n",
      "conv2d_19 (Conv2D)           (None, 112, 112, 128)     73856     \n",
      "_________________________________________________________________\n",
      "zero_padding2d_17 (ZeroPaddi (None, 114, 114, 128)     0         \n",
      "_________________________________________________________________\n",
      "conv2d_20 (Conv2D)           (None, 112, 112, 128)     147584    \n",
      "_________________________________________________________________\n",
      "max_pooling2d_8 (MaxPooling2 (None, 56, 56, 128)       0         \n",
      "_________________________________________________________________\n",
      "zero_padding2d_18 (ZeroPaddi (None, 58, 58, 128)       0         \n",
      "_________________________________________________________________\n",
      "conv2d_21 (Conv2D)           (None, 56, 56, 256)       295168    \n",
      "_________________________________________________________________\n",
      "zero_padding2d_19 (ZeroPaddi (None, 58, 58, 256)       0         \n",
      "_________________________________________________________________\n",
      "conv2d_22 (Conv2D)           (None, 56, 56, 256)       590080    \n",
      "_________________________________________________________________\n",
      "zero_padding2d_20 (ZeroPaddi (None, 58, 58, 256)       0         \n",
      "_________________________________________________________________\n",
      "conv2d_23 (Conv2D)           (None, 56, 56, 256)       590080    \n",
      "_________________________________________________________________\n",
      "max_pooling2d_9 (MaxPooling2 (None, 28, 28, 256)       0         \n",
      "_________________________________________________________________\n",
      "zero_padding2d_21 (ZeroPaddi (None, 30, 30, 256)       0         \n",
      "_________________________________________________________________\n",
      "conv2d_24 (Conv2D)           (None, 28, 28, 512)       1180160   \n",
      "_________________________________________________________________\n",
      "zero_padding2d_22 (ZeroPaddi (None, 30, 30, 512)       0         \n",
      "_________________________________________________________________\n",
      "conv2d_25 (Conv2D)           (None, 28, 28, 512)       2359808   \n",
      "_________________________________________________________________\n",
      "zero_padding2d_23 (ZeroPaddi (None, 30, 30, 512)       0         \n",
      "_________________________________________________________________\n",
      "conv2d_26 (Conv2D)           (None, 28, 28, 512)       2359808   \n",
      "_________________________________________________________________\n",
      "max_pooling2d_10 (MaxPooling (None, 14, 14, 512)       0         \n",
      "_________________________________________________________________\n",
      "zero_padding2d_24 (ZeroPaddi (None, 16, 16, 512)       0         \n",
      "_________________________________________________________________\n",
      "conv2d_27 (Conv2D)           (None, 14, 14, 512)       2359808   \n",
      "_________________________________________________________________\n",
      "zero_padding2d_25 (ZeroPaddi (None, 16, 16, 512)       0         \n",
      "_________________________________________________________________\n",
      "conv2d_28 (Conv2D)           (None, 14, 14, 512)       2359808   \n",
      "_________________________________________________________________\n",
      "zero_padding2d_26 (ZeroPaddi (None, 16, 16, 512)       0         \n",
      "_________________________________________________________________\n",
      "conv2d_29 (Conv2D)           (None, 14, 14, 512)       2359808   \n",
      "_________________________________________________________________\n",
      "max_pooling2d_11 (MaxPooling (None, 7, 7, 512)         0         \n",
      "_________________________________________________________________\n",
      "conv2d_30 (Conv2D)           (None, 1, 1, 4096)        102764544 \n",
      "_________________________________________________________________\n",
      "dropout_8 (Dropout)          (None, 1, 1, 4096)        0         \n",
      "_________________________________________________________________\n",
      "conv2d_31 (Conv2D)           (None, 1, 1, 4096)        16781312  \n",
      "_________________________________________________________________\n",
      "conv2d_32 (Conv2D)           (None, 1, 1, 2622)        10742334  \n",
      "_________________________________________________________________\n",
      "flatten_2 (Flatten)          (None, 2622)              0         \n",
      "_________________________________________________________________\n",
      "dropout_9 (Dropout)          (None, 2622)              0         \n",
      "_________________________________________________________________\n",
      "dense_7 (Dense)              (None, 100)               262300    \n",
      "_________________________________________________________________\n",
      "dropout_10 (Dropout)         (None, 100)               0         \n",
      "_________________________________________________________________\n",
      "dense_8 (Dense)              (None, 50)                5050      \n",
      "_________________________________________________________________\n",
      "dropout_11 (Dropout)         (None, 50)                0         \n",
      "_________________________________________________________________\n",
      "dense_9 (Dense)              (None, 8)                 408       \n",
      "=================================================================\n",
      "Total params: 145,270,636\n",
      "Trainable params: 27,791,404\n",
      "Non-trainable params: 117,479,232\n",
      "_________________________________________________________________\n"
     ]
    }
   ],
   "source": [
    "# combine pre-trained architecture with the new custom output layers\n",
    "VGGface = Model(VGG_mod.input, VGGface)\n",
    "VGGface.summary()"
   ]
  },
  {
   "cell_type": "code",
   "execution_count": 54,
   "metadata": {},
   "outputs": [],
   "source": [
    "## compile model\n",
    "# using sparse_categorical_crossentropy for categorical y\n",
    "# learning rate = 0.00001\n",
    "# momentum decay = 0.9\n",
    "# scaling decay = 0.999\n",
    "VGGface.compile(loss=\"sparse_categorical_crossentropy\", metrics=['acc'], optimizer= keras.optimizers.Adam(lr=0.00001, beta_1=0.9, beta_2=0.999))"
   ]
  },
  {
   "cell_type": "code",
   "execution_count": null,
   "metadata": {},
   "outputs": [],
   "source": [
    "# create check point path\n",
    "os.mknod('./VGGface_checkpoint.h5')"
   ]
  },
  {
   "cell_type": "code",
   "execution_count": 55,
   "metadata": {},
   "outputs": [],
   "source": [
    "# check point for saving best model weight and architecture\n",
    "ck_VGGface = keras.callbacks.ModelCheckpoint(\"VGGface_checkpoint.h5\", monitor='val_acc', save_best_only=True)\n",
    "# Early stop criteria in validation loss\n",
    "es1_VGGface = keras.callbacks.EarlyStopping(patience=10, min_delta = 0.001, monitor='val_loss')\n",
    "# Early stop criteria in validation accuracy\n",
    "es2_VGGface = keras.callbacks.EarlyStopping(patience=10, min_delta = 0.001, monitor='val_acc')\n",
    "# create class weight for imbalance class\n",
    "class_weights = class_weight.compute_class_weight('balanced', np.unique(ytrn), ytrn)"
   ]
  },
  {
   "cell_type": "code",
   "execution_count": 57,
   "metadata": {
    "scrolled": true
   },
   "outputs": [
    {
     "name": "stdout",
     "output_type": "stream",
     "text": [
      "Epoch 1/500\n",
      "218/218 [==============================] - 183s 839ms/step - loss: 4.3073 - acc: 0.3626 - val_loss: 3.7624 - val_acc: 0.4661\n",
      "Epoch 2/500\n",
      "218/218 [==============================] - 174s 797ms/step - loss: 3.5945 - acc: 0.5187 - val_loss: 3.2450 - val_acc: 0.6414\n",
      "Epoch 3/500\n",
      "218/218 [==============================] - 174s 798ms/step - loss: 3.2664 - acc: 0.5914 - val_loss: 3.0035 - val_acc: 0.6684\n",
      "Epoch 4/500\n",
      "218/218 [==============================] - 174s 798ms/step - loss: 3.0646 - acc: 0.6185 - val_loss: 2.8371 - val_acc: 0.6954\n",
      "Epoch 5/500\n",
      "218/218 [==============================] - 174s 798ms/step - loss: 2.8979 - acc: 0.6472 - val_loss: 2.6934 - val_acc: 0.7092\n",
      "Epoch 6/500\n",
      "218/218 [==============================] - 174s 797ms/step - loss: 2.7636 - acc: 0.6640 - val_loss: 2.5749 - val_acc: 0.7195\n",
      "Epoch 7/500\n",
      "218/218 [==============================] - 174s 797ms/step - loss: 2.6364 - acc: 0.6831 - val_loss: 2.4635 - val_acc: 0.7282\n",
      "Epoch 8/500\n",
      "218/218 [==============================] - 174s 797ms/step - loss: 2.5325 - acc: 0.6915 - val_loss: 2.3754 - val_acc: 0.7356\n",
      "Epoch 9/500\n",
      "218/218 [==============================] - 174s 797ms/step - loss: 2.4287 - acc: 0.7051 - val_loss: 2.2772 - val_acc: 0.7443\n",
      "Epoch 10/500\n",
      "218/218 [==============================] - 174s 797ms/step - loss: 2.3184 - acc: 0.7241 - val_loss: 2.1939 - val_acc: 0.7517\n",
      "Epoch 11/500\n",
      "218/218 [==============================] - 174s 797ms/step - loss: 2.2381 - acc: 0.7262 - val_loss: 2.1153 - val_acc: 0.7621\n",
      "Epoch 12/500\n",
      "218/218 [==============================] - 174s 796ms/step - loss: 2.1522 - acc: 0.7388 - val_loss: 2.0477 - val_acc: 0.7655\n",
      "Epoch 13/500\n",
      "218/218 [==============================] - 174s 797ms/step - loss: 2.0762 - acc: 0.7447 - val_loss: 1.9717 - val_acc: 0.7764\n",
      "Epoch 14/500\n",
      "218/218 [==============================] - 174s 796ms/step - loss: 2.0055 - acc: 0.7530 - val_loss: 1.9138 - val_acc: 0.7770\n",
      "Epoch 15/500\n",
      "218/218 [==============================] - 174s 797ms/step - loss: 1.9338 - acc: 0.7616 - val_loss: 1.8497 - val_acc: 0.7897\n",
      "Epoch 16/500\n",
      "218/218 [==============================] - 174s 797ms/step - loss: 1.8653 - acc: 0.7754 - val_loss: 1.7941 - val_acc: 0.7931\n",
      "Epoch 17/500\n",
      "218/218 [==============================] - 174s 798ms/step - loss: 1.7998 - acc: 0.7788 - val_loss: 1.7408 - val_acc: 0.8006\n",
      "Epoch 18/500\n",
      "218/218 [==============================] - 174s 796ms/step - loss: 1.7458 - acc: 0.7890 - val_loss: 1.6903 - val_acc: 0.8034\n",
      "Epoch 19/500\n",
      "218/218 [==============================] - 174s 798ms/step - loss: 1.6880 - acc: 0.7937 - val_loss: 1.6527 - val_acc: 0.7983\n",
      "Epoch 20/500\n",
      "218/218 [==============================] - 174s 796ms/step - loss: 1.6415 - acc: 0.7978 - val_loss: 1.6021 - val_acc: 0.8057\n",
      "Epoch 21/500\n",
      "218/218 [==============================] - 174s 796ms/step - loss: 1.5847 - acc: 0.8055 - val_loss: 1.5568 - val_acc: 0.8098\n",
      "Epoch 22/500\n",
      "218/218 [==============================] - 174s 797ms/step - loss: 1.5387 - acc: 0.8108 - val_loss: 1.5229 - val_acc: 0.8092\n",
      "Epoch 23/500\n",
      "218/218 [==============================] - 174s 797ms/step - loss: 1.4971 - acc: 0.8164 - val_loss: 1.4848 - val_acc: 0.8132\n",
      "Epoch 24/500\n",
      "218/218 [==============================] - 174s 797ms/step - loss: 1.4521 - acc: 0.8226 - val_loss: 1.4510 - val_acc: 0.8138\n",
      "Epoch 25/500\n",
      "218/218 [==============================] - 174s 797ms/step - loss: 1.4106 - acc: 0.8265 - val_loss: 1.4170 - val_acc: 0.8172\n",
      "Epoch 26/500\n",
      "218/218 [==============================] - 174s 797ms/step - loss: 1.3702 - acc: 0.8319 - val_loss: 1.3896 - val_acc: 0.8184\n",
      "Epoch 27/500\n",
      "218/218 [==============================] - 174s 798ms/step - loss: 1.3316 - acc: 0.8401 - val_loss: 1.3597 - val_acc: 0.8161\n",
      "Epoch 28/500\n",
      "218/218 [==============================] - 174s 797ms/step - loss: 1.3040 - acc: 0.8405 - val_loss: 1.3281 - val_acc: 0.8253\n",
      "Epoch 29/500\n",
      "218/218 [==============================] - 174s 797ms/step - loss: 1.2663 - acc: 0.8423 - val_loss: 1.3034 - val_acc: 0.8236\n",
      "Epoch 30/500\n",
      "218/218 [==============================] - 174s 797ms/step - loss: 1.2366 - acc: 0.8515 - val_loss: 1.2791 - val_acc: 0.8259\n",
      "Epoch 31/500\n",
      "218/218 [==============================] - 174s 797ms/step - loss: 1.2042 - acc: 0.8547 - val_loss: 1.2512 - val_acc: 0.8310\n",
      "Epoch 32/500\n",
      "218/218 [==============================] - 174s 797ms/step - loss: 1.1744 - acc: 0.8604 - val_loss: 1.2315 - val_acc: 0.8339\n",
      "Epoch 33/500\n",
      "218/218 [==============================] - 174s 797ms/step - loss: 1.1471 - acc: 0.8571 - val_loss: 1.2078 - val_acc: 0.8374\n",
      "Epoch 34/500\n",
      "218/218 [==============================] - 174s 797ms/step - loss: 1.1197 - acc: 0.8637 - val_loss: 1.1893 - val_acc: 0.8345\n",
      "Epoch 35/500\n",
      "218/218 [==============================] - 173s 796ms/step - loss: 1.0863 - acc: 0.8713 - val_loss: 1.1662 - val_acc: 0.8385\n",
      "Epoch 36/500\n",
      "218/218 [==============================] - 174s 796ms/step - loss: 1.0685 - acc: 0.8703 - val_loss: 1.1451 - val_acc: 0.8362\n",
      "Epoch 37/500\n",
      "218/218 [==============================] - 173s 795ms/step - loss: 1.0457 - acc: 0.8723 - val_loss: 1.1296 - val_acc: 0.8391\n",
      "Epoch 38/500\n",
      "218/218 [==============================] - 173s 795ms/step - loss: 1.0257 - acc: 0.8760 - val_loss: 1.1138 - val_acc: 0.8397\n",
      "Epoch 39/500\n",
      "218/218 [==============================] - 173s 796ms/step - loss: 1.0016 - acc: 0.8799 - val_loss: 1.0941 - val_acc: 0.8477\n",
      "Epoch 40/500\n",
      "218/218 [==============================] - 173s 795ms/step - loss: 0.9760 - acc: 0.8854 - val_loss: 1.0818 - val_acc: 0.8414\n",
      "Epoch 41/500\n",
      "218/218 [==============================] - 173s 796ms/step - loss: 0.9530 - acc: 0.8861 - val_loss: 1.0709 - val_acc: 0.8362\n",
      "Epoch 42/500\n",
      "218/218 [==============================] - 173s 796ms/step - loss: 0.9338 - acc: 0.8892 - val_loss: 1.0619 - val_acc: 0.8408\n",
      "Epoch 43/500\n",
      "218/218 [==============================] - 174s 796ms/step - loss: 0.9191 - acc: 0.8908 - val_loss: 1.0399 - val_acc: 0.8437\n",
      "Epoch 44/500\n",
      "218/218 [==============================] - 173s 795ms/step - loss: 0.8988 - acc: 0.8950 - val_loss: 1.0283 - val_acc: 0.8425\n",
      "Epoch 45/500\n",
      "218/218 [==============================] - 174s 797ms/step - loss: 0.8784 - acc: 0.8968 - val_loss: 1.0147 - val_acc: 0.8511\n",
      "Epoch 46/500\n",
      "218/218 [==============================] - 174s 798ms/step - loss: 0.8658 - acc: 0.9008 - val_loss: 1.0067 - val_acc: 0.8425\n",
      "Epoch 47/500\n",
      "218/218 [==============================] - 174s 798ms/step - loss: 0.8461 - acc: 0.9024 - val_loss: 1.0003 - val_acc: 0.8402\n",
      "Epoch 48/500\n",
      "218/218 [==============================] - 174s 798ms/step - loss: 0.8314 - acc: 0.9040 - val_loss: 0.9749 - val_acc: 0.8586\n",
      "Epoch 49/500\n",
      "218/218 [==============================] - 174s 798ms/step - loss: 0.8128 - acc: 0.9072 - val_loss: 0.9654 - val_acc: 0.8552\n",
      "Epoch 50/500\n",
      "218/218 [==============================] - 174s 798ms/step - loss: 0.8026 - acc: 0.9099 - val_loss: 0.9573 - val_acc: 0.8557\n",
      "Epoch 51/500\n",
      "218/218 [==============================] - 174s 798ms/step - loss: 0.7798 - acc: 0.9127 - val_loss: 0.9491 - val_acc: 0.8575\n",
      "Epoch 52/500\n",
      "218/218 [==============================] - 174s 797ms/step - loss: 0.7692 - acc: 0.9161 - val_loss: 0.9416 - val_acc: 0.8586\n",
      "Epoch 53/500\n",
      "218/218 [==============================] - 174s 797ms/step - loss: 0.7562 - acc: 0.9170 - val_loss: 0.9293 - val_acc: 0.8563\n",
      "Epoch 54/500\n",
      "218/218 [==============================] - 174s 798ms/step - loss: 0.7435 - acc: 0.9163 - val_loss: 0.9207 - val_acc: 0.8580\n",
      "Epoch 55/500\n",
      "218/218 [==============================] - 174s 797ms/step - loss: 0.7348 - acc: 0.9185 - val_loss: 0.9201 - val_acc: 0.8477\n",
      "Epoch 56/500\n",
      "218/218 [==============================] - 174s 797ms/step - loss: 0.7179 - acc: 0.9218 - val_loss: 0.9062 - val_acc: 0.8557\n",
      "Epoch 57/500\n",
      "218/218 [==============================] - 174s 798ms/step - loss: 0.6989 - acc: 0.9272 - val_loss: 0.8944 - val_acc: 0.8586\n",
      "Epoch 58/500\n",
      "218/218 [==============================] - 174s 798ms/step - loss: 0.6887 - acc: 0.9292 - val_loss: 0.8867 - val_acc: 0.8592\n"
     ]
    }
   ],
   "source": [
    "# fit the model\n",
    "history_VGGface = VGGface.fit_generator(generator=training_batch_generator,\n",
    "                                        steps_per_epoch = training_batch_generator.__len__(),\n",
    "                                        epochs = 500, verbose = 1,\n",
    "                                        validation_data = validation_batch_generator,\n",
    "                                        validation_steps = validation_batch_generator.__len__(),\n",
    "                                        callbacks=[ck_VGGface, es1_VGGface, es2_VGGface],\n",
    "                                        workers=20, \n",
    "                                        class_weight = class_weights)"
   ]
  },
  {
   "cell_type": "code",
   "execution_count": 58,
   "metadata": {},
   "outputs": [
    {
     "data": {
      "text/plain": [
       "['./dict/history_VGGface.pkl']"
      ]
     },
     "execution_count": 58,
     "metadata": {},
     "output_type": "execute_result"
    }
   ],
   "source": [
    "joblib.dump(history_VGGface, './dict/history_VGGface.pkl')"
   ]
  },
  {
   "cell_type": "code",
   "execution_count": null,
   "metadata": {},
   "outputs": [],
   "source": [
    "# history_VGGface = joblib.load('./dict/history_VGGface.pkl')"
   ]
  },
  {
   "cell_type": "code",
   "execution_count": 60,
   "metadata": {},
   "outputs": [
    {
     "data": {
      "image/png": "[encoded data removed]",
      "text/plain": [
       "<Figure size 576x360 with 1 Axes>"
      ]
     },
     "metadata": {
      "needs_background": "light"
     },
     "output_type": "display_data"
    }
   ],
   "source": [
    "pd.DataFrame(history_VGGface.history).loc[:,['acc','val_acc']].plot(figsize=(8, 5))\n",
    "plt.grid(True)\n",
    "plt.gca()\n",
    "plt.title('The comparison between train and validate accuracy of VGG face')\n",
    "plt.show()"
   ]
  },
  {
   "cell_type": "markdown",
   "metadata": {},
   "source": [
    "The accuracies of the train and validate set are closed and increased gradually in the same direction shown that the model is a good fit."
   ]
  },
  {
   "cell_type": "code",
   "execution_count": 61,
   "metadata": {},
   "outputs": [
    {
     "data": {
      "image/png": "[encoded data removed]",
      "text/plain": [
       "<Figure size 576x360 with 1 Axes>"
      ]
     },
     "metadata": {
      "needs_background": "light"
     },
     "output_type": "display_data"
    }
   ],
   "source": [
    "pd.DataFrame(history_VGGface.history).loc[:,['loss','val_loss']].plot(figsize=(8, 5))\n",
    "plt.grid(True)\n",
    "plt.gca()\n",
    "plt.title('The comparison between train and validate loss of VGG face')\n",
    "plt.show()"
   ]
  },
  {
   "cell_type": "markdown",
   "metadata": {},
   "source": [
    "The evaluation cannot account on loss metric because the model applies dropout layer, which occurs only in the train set."
   ]
  },
  {
   "cell_type": "markdown",
   "metadata": {},
   "source": [
    "## 8) Model Evaluation and Visualization"
   ]
  },
  {
   "cell_type": "code",
   "execution_count": null,
   "metadata": {},
   "outputs": [],
   "source": [
    "# evaluate training accuracy\n",
    "acc_trn = VGGface.evaluate_generator(generator = training_batch_generator, steps = training_batch_generator.__len__(), workers = 20)"
   ]
  },
  {
   "cell_type": "code",
   "execution_count": 159,
   "metadata": {},
   "outputs": [
    {
     "name": "stdout",
     "output_type": "stream",
     "text": [
      "The train accuracy is 0.97\n"
     ]
    }
   ],
   "source": [
    "print('The train accuracy is {0:0.2f}'.format(acc_trn[1]))"
   ]
  },
  {
   "cell_type": "code",
   "execution_count": null,
   "metadata": {},
   "outputs": [],
   "source": [
    "# evaluate testing accuracy\n",
    "acc_tst = VGGface.evaluate_generator(generator = testing_batch_generator, steps = testing_batch_generator.__len__(), workers = 20)"
   ]
  },
  {
   "cell_type": "code",
   "execution_count": 160,
   "metadata": {},
   "outputs": [
    {
     "name": "stdout",
     "output_type": "stream",
     "text": [
      "The test accuracy is 0.84\n"
     ]
    }
   ],
   "source": [
    "print('The test accuracy is {0:0.2f}'.format(acc_tst[1]))"
   ]
  },
  {
   "cell_type": "code",
   "execution_count": 65,
   "metadata": {},
   "outputs": [],
   "source": [
    "# predict class probability\n",
    "prob = VGGface.predict_generator(generator = testing_batch_generator, steps = testing_batch_generator.__len__(), workers = 20)"
   ]
  },
  {
   "cell_type": "code",
   "execution_count": 66,
   "metadata": {},
   "outputs": [],
   "source": [
    "# create y predict\n",
    "yhat = np.argmax(prob,axis=1)"
   ]
  },
  {
   "cell_type": "code",
   "execution_count": 106,
   "metadata": {},
   "outputs": [],
   "source": [
    "# create y one hot coding\n",
    "ytst_cat = to_categorical(ytst, num_classes=8)"
   ]
  },
  {
   "cell_type": "code",
   "execution_count": 104,
   "metadata": {},
   "outputs": [
    {
     "name": "stdout",
     "output_type": "stream",
     "text": [
      "The confusion matrix of Age group, with normalization\n"
     ]
    },
    {
     "data": {
      "image/png": "[encoded data removed]",
      "text/plain": [
       "<Figure size 1008x864 with 2 Axes>"
      ]
     },
     "metadata": {
      "needs_background": "light"
     },
     "output_type": "display_data"
    }
   ],
   "source": [
    "# create confusion matrix \n",
    "label_names = np.array(list(set(ytst)))\n",
    "def plot_con_mat(cm, classes,\n",
    "                 normalize=True,\n",
    "                 title='The confusion matrix of Age group',\n",
    "                 cmap=plt.cm.BuGn):\n",
    "    if normalize:\n",
    "        cm = cm.astype('float') / cm.sum(axis=1)[:, np.newaxis]\n",
    "        title = \"The confusion matrix of Age group, with normalization\"\n",
    "        print(title)\n",
    "    else:\n",
    "        title = 'The confusion matrix of Age group, without normalization'\n",
    "        print(title)\n",
    "\n",
    "    # print(cm)\n",
    "\n",
    "    plt.imshow(cm, interpolation='nearest', cmap=cmap)\n",
    "    plt.title(title)\n",
    "    plt.colorbar()\n",
    "    tick_marks = np.arange(len(classes))\n",
    "    plt.xticks(tick_marks, classes, rotation=90)\n",
    "    plt.yticks(tick_marks, classes)\n",
    "\n",
    "    fmt = '.2f' if normalize else 'd'\n",
    "    thresh = cm.max() / 2.\n",
    "    for i, j in itertools.product(range(cm.shape[0]), range(cm.shape[1])):\n",
    "        plt.text(j, i, format(cm[i, j], fmt),\n",
    "                 horizontalalignment=\"center\",\n",
    "                 color=\"white\" if cm[i, j] > thresh else \"black\")\n",
    "\n",
    "    plt.tight_layout()\n",
    "    plt.ylabel('Y True')\n",
    "    plt.xlabel('Y Predict')\n",
    "\n",
    "con_mat = confusion_matrix(ytst, yhat)\n",
    "\n",
    "# Plot normalized confusion matrix\n",
    "fig = plt.figure()\n",
    "fig.set_size_inches(14, 12, forward=True)\n",
    "plot_con_mat(con_mat, classes = objects, normalize = True, title='The confusion matrix of Age group')"
   ]
  },
  {
   "cell_type": "code",
   "execution_count": 161,
   "metadata": {},
   "outputs": [
    {
     "data": {
      "text/plain": [
       "Text(0.5, 1.0, 'The PR curve of the model : AP = 0.92')"
      ]
     },
     "execution_count": 161,
     "metadata": {},
     "output_type": "execute_result"
    },
    {
     "data": {
      "image/png": "[encoded data removed]",
      "text/plain": [
       "<Figure size 432x288 with 1 Axes>"
      ]
     },
     "metadata": {
      "needs_background": "light"
     },
     "output_type": "display_data"
    }
   ],
   "source": [
    "# Average PR curve\n",
    "precision = dict()\n",
    "recall = dict()\n",
    "average_precision = dict()\n",
    "for i in range(len(dict_age)):\n",
    "    precision[i], recall[i], _ = precision_recall_curve(ytst_cat[:, i],\n",
    "                                                        prob[:, i])\n",
    "    average_precision[i] = average_precision_score(ytst_cat[:, i], prob[:, i])\n",
    "\n",
    "# A \"micro-average\": quantifying score on all classes jointly\n",
    "precision[\"micro\"], recall[\"micro\"], _ = precision_recall_curve(ytst_cat.ravel(), prob.ravel())\n",
    "average_precision[\"micro\"] = average_precision_score(ytst_cat, prob, average=\"micro\")\n",
    "\n",
    "plt.figure()\n",
    "plt.step(recall['micro'], precision['micro'], color = 'blue', alpha=0.2, where='post')\n",
    "plt.fill_between(recall[\"micro\"], precision[\"micro\"], alpha=0.2, color='green')\n",
    "plt.xlabel('Recall')\n",
    "plt.ylabel('Precision')\n",
    "plt.ylim([0.0, 1.01])\n",
    "plt.xlim([0.0, 1.01])\n",
    "plt.title('The PR curve of the model : AP = {0:0.2f}'.format(average_precision[\"micro\"]))"
   ]
  },
  {
   "cell_type": "code",
   "execution_count": 162,
   "metadata": {},
   "outputs": [
    {
     "data": {
      "image/png": "[encoded data removed]",
      "text/plain": [
       "<Figure size 432x288 with 1 Axes>"
      ]
     },
     "metadata": {
      "needs_background": "light"
     },
     "output_type": "display_data"
    }
   ],
   "source": [
    "# Compute ROC curve and ROC area for each class\n",
    "fpr = dict()\n",
    "tpr = dict()\n",
    "roc_auc = dict()\n",
    "for i in range(len(dict_age)):\n",
    "    fpr[i], tpr[i], _ = roc_curve(ytst_cat[:, i], prob[:, i])\n",
    "    roc_auc[i] = auc(fpr[i], tpr[i])\n",
    "\n",
    "# Compute micro-average ROC curve and ROC area\n",
    "fpr[\"micro\"], tpr[\"micro\"], _ = roc_curve(ytst_cat.ravel(), prob.ravel())\n",
    "roc_auc[\"micro\"] = auc(fpr[\"micro\"], tpr[\"micro\"])\n",
    "\n",
    "\n",
    "plt.figure()\n",
    "lw = 2\n",
    "plt.plot(fpr[2], tpr[2], color='g', lw=lw, label='ROC curve (area = {0:0.2f})'.format(roc_auc[2]))\n",
    "plt.plot([0, 1], [0, 1], color='aqua', lw=lw, linestyle='--')\n",
    "plt.xlim([-0.01, 1.00])\n",
    "plt.ylim([-0.01, 1.01])\n",
    "plt.xlabel('False Positive Rate')\n",
    "plt.ylabel('True Positive Rate')\n",
    "plt.title('The average ROC curve of the model')\n",
    "plt.legend(loc=\"lower right\")\n",
    "plt.show()"
   ]
  },
  {
   "cell_type": "code",
   "execution_count": 163,
   "metadata": {},
   "outputs": [
    {
     "name": "stdout",
     "output_type": "stream",
     "text": [
      "The F1 of the model is 0.84\n"
     ]
    }
   ],
   "source": [
    "print('The F1 of the model is {0:0.2f}'.format(f1_score(ytst, yhat, average='weighted')))"
   ]
  },
  {
   "cell_type": "code",
   "execution_count": 164,
   "metadata": {},
   "outputs": [
    {
     "name": "stdout",
     "output_type": "stream",
     "text": [
      "The balanced accuracy of the model is 0.80\n"
     ]
    }
   ],
   "source": [
    "print('The balanced accuracy of the model is {0:0.2f}'.format(balanced_accuracy_score(ytst, yhat)))"
   ]
  },
  {
   "cell_type": "markdown",
   "metadata": {},
   "source": [
    "<p style=\"text-indent: 2.5em;\">\n",
    "    For the imbalanced class study and the false negative and false positive do not affect human behaviour much (not much effect with the age prediction give the wrong age group), the appropriate evaluation matrics are F1 measure (0.84) and balanced accuracy (0.8), which indicate that the model performs very well and generalize to another work."
   ]
  },
  {
   "cell_type": "markdown",
   "metadata": {},
   "source": [
    "## 9) Conclusions, Suggestions, and Limitations"
   ]
  },
  {
   "cell_type": "markdown",
   "metadata": {},
   "source": [
    "### <b> Conclusions\n",
    "<p style=\"text-indent: 2.5em;\">\n",
    "    The study aims to predict age from face images, the model using deep learning, the convolutional neural network with transfer learning. The pre-trained networks used in this study are Resnet50 (with imagenet weight), and VGG faces (with VGG face weight). The aligned face images are retrieved from the Adience face image project, the open university of Israel, then resize and feed into the model in order to train the best model for face prediction.\n",
    "<p style=\"text-indent: 2.5em;\">\n",
    "    The VGG face architecture (with VGG face weight) performs better than Resnet50 architecture (with imagenet weight). As a result, the comprehensive evaluation only performed on VGG model. There are eight classes of age including 0-2, 4-6, 8-12, 15-20, 25-32, 27-43, 48-53, and 60-100. Due to imbalanced class, the evaluation matric used F1, the harmonic mean of precision and recall, and another evaluation matric is balanced accuracy, which is a harmonic mean of sensitivity and specificity. The model F1 is 0.84, and the balanced accuracy is 0.80 The model is fit well with image data and more likely to generalize when applying with another dataset.\n",
    "\n",
    "<p>\n",
    "    \n",
    "### <b> Suggestions\n",
    "<p style=\"text-indent: 2.5em;\">  \n",
    "    There are two fine-tuned pre-trained models experiment in this study; Firstly, the Resnet50 model is one of the popular model architecture using in a convolutional neural network. However, the model performs poor in this study caused by the weight training which derived from imagenet is cover many domains such as animal, object, tool, plant, human, etc. The model with a specific field for weight training has the potential to outperform the former model. Secondly, the VGGface model is trained on the VGGface dataset provides higher performance compare with the Resnet50 model. However, the performance of the training set is slightly higher than the testing set. Increasing the dropout ratio may cause improving on performance and preventing the model from overfitting.\n",
    "    \n",
    "<p>\n",
    "\n",
    "### <b> Limitations\n",
    "<p style=\"text-indent: 2.5em;\"> \n",
    "    There are some limitations of the study, 1) the computational power of the study laptop, which is not good enough to train the deep learning by online learning method. Batch training is used to solve this problem. 2) the limited budget for cloud computing services rental, the fine-tune model hyperparameters need high computational times, the study is used a google cloud platform, which is not an open-source application. The longer we train the model, the more we pay for the service. As a result, the author only provides a small amount of manual hyperparameter tuning following the good practice from online materials and textbooks."
   ]
  }
 ],
 "metadata": {
  "kernelspec": {
   "display_name": "Python 3",
   "language": "python",
   "name": "python3"
  },
  "language_info": {
   "codemirror_mode": {
    "name": "ipython",
    "version": 3
   },
   "file_extension": ".py",
   "mimetype": "text/x-python",
   "name": "python",
   "nbconvert_exporter": "python",
   "pygments_lexer": "ipython3",
   "version": "3.5.3"
  }
 },
 "nbformat": 4,
 "nbformat_minor": 4
}
